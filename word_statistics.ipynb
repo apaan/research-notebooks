{
 "metadata": {
  "language_info": {
   "codemirror_mode": {
    "name": "ipython",
    "version": 3
   },
   "file_extension": ".py",
   "mimetype": "text/x-python",
   "name": "python",
   "nbconvert_exporter": "python",
   "pygments_lexer": "ipython3",
   "version": "3.8.6-final"
  },
  "orig_nbformat": 2,
  "kernelspec": {
   "name": "Python 3.8.6 64-bit",
   "display_name": "Python 3.8.6 64-bit",
   "metadata": {
    "interpreter": {
     "hash": "767d51c1340bd893661ea55ea3124f6de3c7a262a8b4abca0554b478b1e2ff90"
    }
   }
  }
 },
 "nbformat": 4,
 "nbformat_minor": 2,
 "cells": [
  {
   "cell_type": "code",
   "execution_count": 1,
   "metadata": {},
   "outputs": [],
   "source": [
    "import pandas as pd\n",
    "import collections\n",
    "\n",
    "with open('quran-text/quran-uthmani.txt') as f:\n",
    "    quran_text = [l.strip() for l in f if not l.strip().startswith('#') and l.strip()]"
   ]
  },
  {
   "cell_type": "code",
   "execution_count": 2,
   "metadata": {},
   "outputs": [
    {
     "output_type": "execute_result",
     "data": {
      "text/plain": [
       "      sura  verse                                      text\n",
       "0        1      1    بِسْمِ ٱللَّهِ ٱلرَّحْمَٰنِ ٱلرَّحِيمِ\n",
       "1        1      2     ٱلْحَمْدُ لِلَّهِ رَبِّ ٱلْعَٰلَمِينَ\n",
       "2        1      3                   ٱلرَّحْمَٰنِ ٱلرَّحِيمِ\n",
       "3        1      4                   مَٰلِكِ يَوْمِ ٱلدِّينِ\n",
       "4        1      5  إِيَّاكَ نَعْبُدُ وَإِيَّاكَ نَسْتَعِينُ\n",
       "...    ...    ...                                       ...\n",
       "6341   114      2                           مَلِكِ ٱلنَّاسِ\n",
       "6342   114      3                          إِلَٰهِ ٱلنَّاسِ\n",
       "6343   114      4        مِن شَرِّ ٱلْوَسْوَاسِ ٱلْخَنَّاسِ\n",
       "6344   114      5   ٱلَّذِى يُوَسْوِسُ فِى صُدُورِ ٱلنَّاسِ\n",
       "6345   114      6                مِنَ ٱلْجِنَّةِ وَٱلنَّاسِ\n",
       "\n",
       "[6346 rows x 3 columns]"
      ],
      "text/html": "<div>\n<style scoped>\n    .dataframe tbody tr th:only-of-type {\n        vertical-align: middle;\n    }\n\n    .dataframe tbody tr th {\n        vertical-align: top;\n    }\n\n    .dataframe thead th {\n        text-align: right;\n    }\n</style>\n<table border=\"1\" class=\"dataframe\">\n  <thead>\n    <tr style=\"text-align: right;\">\n      <th></th>\n      <th>sura</th>\n      <th>verse</th>\n      <th>text</th>\n    </tr>\n  </thead>\n  <tbody>\n    <tr>\n      <th>0</th>\n      <td>1</td>\n      <td>1</td>\n      <td>بِسْمِ ٱللَّهِ ٱلرَّحْمَٰنِ ٱلرَّحِيمِ</td>\n    </tr>\n    <tr>\n      <th>1</th>\n      <td>1</td>\n      <td>2</td>\n      <td>ٱلْحَمْدُ لِلَّهِ رَبِّ ٱلْعَٰلَمِينَ</td>\n    </tr>\n    <tr>\n      <th>2</th>\n      <td>1</td>\n      <td>3</td>\n      <td>ٱلرَّحْمَٰنِ ٱلرَّحِيمِ</td>\n    </tr>\n    <tr>\n      <th>3</th>\n      <td>1</td>\n      <td>4</td>\n      <td>مَٰلِكِ يَوْمِ ٱلدِّينِ</td>\n    </tr>\n    <tr>\n      <th>4</th>\n      <td>1</td>\n      <td>5</td>\n      <td>إِيَّاكَ نَعْبُدُ وَإِيَّاكَ نَسْتَعِينُ</td>\n    </tr>\n    <tr>\n      <th>...</th>\n      <td>...</td>\n      <td>...</td>\n      <td>...</td>\n    </tr>\n    <tr>\n      <th>6341</th>\n      <td>114</td>\n      <td>2</td>\n      <td>مَلِكِ ٱلنَّاسِ</td>\n    </tr>\n    <tr>\n      <th>6342</th>\n      <td>114</td>\n      <td>3</td>\n      <td>إِلَٰهِ ٱلنَّاسِ</td>\n    </tr>\n    <tr>\n      <th>6343</th>\n      <td>114</td>\n      <td>4</td>\n      <td>مِن شَرِّ ٱلْوَسْوَاسِ ٱلْخَنَّاسِ</td>\n    </tr>\n    <tr>\n      <th>6344</th>\n      <td>114</td>\n      <td>5</td>\n      <td>ٱلَّذِى يُوَسْوِسُ فِى صُدُورِ ٱلنَّاسِ</td>\n    </tr>\n    <tr>\n      <th>6345</th>\n      <td>114</td>\n      <td>6</td>\n      <td>مِنَ ٱلْجِنَّةِ وَٱلنَّاسِ</td>\n    </tr>\n  </tbody>\n</table>\n<p>6346 rows × 3 columns</p>\n</div>"
     },
     "metadata": {},
     "execution_count": 2
    }
   ],
   "source": [
    "FILTERED_CHARS = \\\n",
    "    '|123456789 \\t\\nًٌَُّْ\t' \\\n",
    "    'ِ ۫ ۨ ۬ ۬' \\\n",
    "    '۪ ۣۭۜ۠' \\\n",
    "    '\t' \\\n",
    "    'ٰ'\n",
    "def filter_char(text):\n",
    "    return ''.join(c for c in text if c not in FILTERED_CHARS)\n",
    "\n",
    "# split basmallah to its own\n",
    "i = 0 \n",
    "while i < len(quran_text):\n",
    "    aya = quran_text[i].split('|')\n",
    "    if aya[2].startswith('بِسْمِ ٱللَّهِ ٱلرَّحْمَٰنِ ٱلرَّحِيمِ '):\n",
    "        quran_text.insert(i, f'{aya[0]}|0|بِسْمِ ٱللَّهِ ٱلرَّحْمَٰنِ ٱلرَّحِيمِ')\n",
    "        i += 1\n",
    "        quran_text[i] = f'{aya[0]}|1|{aya[2][38:]}'\n",
    "    i += 1\n",
    "\n",
    "df = pd.DataFrame({'sura': int(a[0]), 'verse': int(a[1]), 'text': a[2]} for a in [a.split('|') for a in quran_text])\n",
    "df"
   ]
  },
  {
   "cell_type": "code",
   "execution_count": 3,
   "metadata": {},
   "outputs": [],
   "source": [
    "# NOTE: this count و as integral part of a word\n",
    "df['words'] = df.text.apply(lambda t: [w for w in [filter_char(w) for w in t.split(' ')] if w.strip()])\n",
    "df['word_count'] = df.words.apply(lambda w: len(w))"
   ]
  },
  {
   "cell_type": "code",
   "execution_count": 4,
   "metadata": {},
   "outputs": [
    {
     "output_type": "execute_result",
     "data": {
      "text/plain": [
       "   sura  verse                                               text  \\\n",
       "0     1      1             بِسْمِ ٱللَّهِ ٱلرَّحْمَٰنِ ٱلرَّحِيمِ   \n",
       "1     1      2              ٱلْحَمْدُ لِلَّهِ رَبِّ ٱلْعَٰلَمِينَ   \n",
       "2     1      3                            ٱلرَّحْمَٰنِ ٱلرَّحِيمِ   \n",
       "3     1      4                            مَٰلِكِ يَوْمِ ٱلدِّينِ   \n",
       "4     1      5           إِيَّاكَ نَعْبُدُ وَإِيَّاكَ نَسْتَعِينُ   \n",
       "5     1      6                 ٱهْدِنَا ٱلصِّرَٰطَ ٱلْمُسْتَقِيمَ   \n",
       "6     1      7  صِرَٰطَ ٱلَّذِينَ أَنْعَمْتَ عَلَيْهِمْ غَيْرِ...   \n",
       "7     2      0             بِسْمِ ٱللَّهِ ٱلرَّحْمَٰنِ ٱلرَّحِيمِ   \n",
       "8     2      1                                              الٓمٓ   \n",
       "9     2      2  ذَٰلِكَ ٱلْكِتَٰبُ لَا رَيْبَ فِيهِ هُدًى لِّل...   \n",
       "\n",
       "                                               words  word_count  \n",
       "0                        [بسم, ٱلله, ٱلرحمن, ٱلرحيم]           4  \n",
       "1                          [ٱلحمد, لله, رب, ٱلعلمين]           4  \n",
       "2                                   [ٱلرحمن, ٱلرحيم]           2  \n",
       "3                                  [ملك, يوم, ٱلدين]           3  \n",
       "4                        [إياك, نعبد, وإياك, نستعين]           4  \n",
       "5                           [ٱهدنا, ٱلصرط, ٱلمستقيم]           3  \n",
       "6  [صرط, ٱلذين, أنعمت, عليهم, غير, ٱلمغضوب, عليهم...           9  \n",
       "7                        [بسم, ٱلله, ٱلرحمن, ٱلرحيم]           4  \n",
       "8                                            [الٓمٓ]           1  \n",
       "9           [ذلك, ٱلكتب, لا, ريب, فيه, هدى, للمتقين]           7  "
      ],
      "text/html": "<div>\n<style scoped>\n    .dataframe tbody tr th:only-of-type {\n        vertical-align: middle;\n    }\n\n    .dataframe tbody tr th {\n        vertical-align: top;\n    }\n\n    .dataframe thead th {\n        text-align: right;\n    }\n</style>\n<table border=\"1\" class=\"dataframe\">\n  <thead>\n    <tr style=\"text-align: right;\">\n      <th></th>\n      <th>sura</th>\n      <th>verse</th>\n      <th>text</th>\n      <th>words</th>\n      <th>word_count</th>\n    </tr>\n  </thead>\n  <tbody>\n    <tr>\n      <th>0</th>\n      <td>1</td>\n      <td>1</td>\n      <td>بِسْمِ ٱللَّهِ ٱلرَّحْمَٰنِ ٱلرَّحِيمِ</td>\n      <td>[بسم, ٱلله, ٱلرحمن, ٱلرحيم]</td>\n      <td>4</td>\n    </tr>\n    <tr>\n      <th>1</th>\n      <td>1</td>\n      <td>2</td>\n      <td>ٱلْحَمْدُ لِلَّهِ رَبِّ ٱلْعَٰلَمِينَ</td>\n      <td>[ٱلحمد, لله, رب, ٱلعلمين]</td>\n      <td>4</td>\n    </tr>\n    <tr>\n      <th>2</th>\n      <td>1</td>\n      <td>3</td>\n      <td>ٱلرَّحْمَٰنِ ٱلرَّحِيمِ</td>\n      <td>[ٱلرحمن, ٱلرحيم]</td>\n      <td>2</td>\n    </tr>\n    <tr>\n      <th>3</th>\n      <td>1</td>\n      <td>4</td>\n      <td>مَٰلِكِ يَوْمِ ٱلدِّينِ</td>\n      <td>[ملك, يوم, ٱلدين]</td>\n      <td>3</td>\n    </tr>\n    <tr>\n      <th>4</th>\n      <td>1</td>\n      <td>5</td>\n      <td>إِيَّاكَ نَعْبُدُ وَإِيَّاكَ نَسْتَعِينُ</td>\n      <td>[إياك, نعبد, وإياك, نستعين]</td>\n      <td>4</td>\n    </tr>\n    <tr>\n      <th>5</th>\n      <td>1</td>\n      <td>6</td>\n      <td>ٱهْدِنَا ٱلصِّرَٰطَ ٱلْمُسْتَقِيمَ</td>\n      <td>[ٱهدنا, ٱلصرط, ٱلمستقيم]</td>\n      <td>3</td>\n    </tr>\n    <tr>\n      <th>6</th>\n      <td>1</td>\n      <td>7</td>\n      <td>صِرَٰطَ ٱلَّذِينَ أَنْعَمْتَ عَلَيْهِمْ غَيْرِ...</td>\n      <td>[صرط, ٱلذين, أنعمت, عليهم, غير, ٱلمغضوب, عليهم...</td>\n      <td>9</td>\n    </tr>\n    <tr>\n      <th>7</th>\n      <td>2</td>\n      <td>0</td>\n      <td>بِسْمِ ٱللَّهِ ٱلرَّحْمَٰنِ ٱلرَّحِيمِ</td>\n      <td>[بسم, ٱلله, ٱلرحمن, ٱلرحيم]</td>\n      <td>4</td>\n    </tr>\n    <tr>\n      <th>8</th>\n      <td>2</td>\n      <td>1</td>\n      <td>الٓمٓ</td>\n      <td>[الٓمٓ]</td>\n      <td>1</td>\n    </tr>\n    <tr>\n      <th>9</th>\n      <td>2</td>\n      <td>2</td>\n      <td>ذَٰلِكَ ٱلْكِتَٰبُ لَا رَيْبَ فِيهِ هُدًى لِّل...</td>\n      <td>[ذلك, ٱلكتب, لا, ريب, فيه, هدى, للمتقين]</td>\n      <td>7</td>\n    </tr>\n  </tbody>\n</table>\n</div>"
     },
     "metadata": {},
     "execution_count": 4
    }
   ],
   "source": [
    "df.head(10)"
   ]
  },
  {
   "cell_type": "code",
   "execution_count": 5,
   "metadata": {},
   "outputs": [
    {
     "output_type": "execute_result",
     "data": {
      "text/plain": [
       "      sura  verse                                               text  \\\n",
       "289      2    282  يَٰٓأَيُّهَا ٱلَّذِينَ ءَامَنُوٓا۟ إِذَا تَدَا...   \n",
       "507      4     12  وَلَكُمْ نِصْفُ مَا تَرَكَ أَزْوَٰجُكُمْ إِن ل...   \n",
       "5565    73     20  إِنَّ رَبَّكَ يَعْلَمُ أَنَّكَ تَقُومُ أَدْنَى...   \n",
       "2843    24     31  وَقُل لِّلْمُؤْمِنَٰتِ يَغْضُضْنَ مِنْ أَبْصَٰ...   \n",
       "2873    24     61  لَّيْسَ عَلَى ٱلْأَعْمَىٰ حَرَجٌ وَلَا عَلَى ٱ...   \n",
       "448      3    154  ثُمَّ أَنزَلَ عَلَيْكُم مِّنۢ بَعْدِ ٱلْغَمِّ ...   \n",
       "109      2    102  وَٱتَّبَعُوا۟ مَا تَتْلُوا۟ ٱلشَّيَٰطِينُ عَلَ...   \n",
       "203      2    196  وَأَتِمُّوا۟ ٱلْحَجَّ وَٱلْعُمْرَةَ لِلَّهِ فَ...   \n",
       "506      4     11  يُوصِيكُمُ ٱللَّهُ فِىٓ أَوْلَٰدِكُمْ لِلذَّكَ...   \n",
       "3616    33     53  يَٰٓأَيُّهَا ٱلَّذِينَ ءَامَنُوا۟ لَا تَدْخُلُ...   \n",
       "\n",
       "                                                  words  word_count  \n",
       "289   [يٓأيها, ٱلذين, ءامنوٓا۟, إذا, تداينتم, بدينٍ,...         128  \n",
       "507   [ولكم, نصف, ما, ترك, أزوجكم, إن, لم, يكن, لهن,...          88  \n",
       "5565  [إن, ربك, يعلم, أنك, تقوم, أدنى, من, ثلثى, ٱلي...          78  \n",
       "2843  [وقل, للمؤمنت, يغضضن, من, أبصرهن, ويحفظن, فروج...          78  \n",
       "2873  [ليس, على, ٱلأعمى, حرج, ولا, على, ٱلأعرج, حرج,...          76  \n",
       "448   [ثم, أنزل, عليكم, منۢ, بعد, ٱلغم, أمنة, نعاسا,...          75  \n",
       "109   [وٱتبعوا۟, ما, تتلوا۟, ٱلشيطين, على, ملك, سليم...          74  \n",
       "203   [وأتموا۟, ٱلحج, وٱلعمرة, لله, فإن, أحصرتم, فما...          73  \n",
       "506   [يوصيكم, ٱلله, فىٓ, أولدكم, للذكر, مثل, حظ, ٱل...          71  \n",
       "3616  [يٓأيها, ٱلذين, ءامنوا۟, لا, تدخلوا۟, بيوت, ٱل...          69  "
      ],
      "text/html": "<div>\n<style scoped>\n    .dataframe tbody tr th:only-of-type {\n        vertical-align: middle;\n    }\n\n    .dataframe tbody tr th {\n        vertical-align: top;\n    }\n\n    .dataframe thead th {\n        text-align: right;\n    }\n</style>\n<table border=\"1\" class=\"dataframe\">\n  <thead>\n    <tr style=\"text-align: right;\">\n      <th></th>\n      <th>sura</th>\n      <th>verse</th>\n      <th>text</th>\n      <th>words</th>\n      <th>word_count</th>\n    </tr>\n  </thead>\n  <tbody>\n    <tr>\n      <th>289</th>\n      <td>2</td>\n      <td>282</td>\n      <td>يَٰٓأَيُّهَا ٱلَّذِينَ ءَامَنُوٓا۟ إِذَا تَدَا...</td>\n      <td>[يٓأيها, ٱلذين, ءامنوٓا۟, إذا, تداينتم, بدينٍ,...</td>\n      <td>128</td>\n    </tr>\n    <tr>\n      <th>507</th>\n      <td>4</td>\n      <td>12</td>\n      <td>وَلَكُمْ نِصْفُ مَا تَرَكَ أَزْوَٰجُكُمْ إِن ل...</td>\n      <td>[ولكم, نصف, ما, ترك, أزوجكم, إن, لم, يكن, لهن,...</td>\n      <td>88</td>\n    </tr>\n    <tr>\n      <th>5565</th>\n      <td>73</td>\n      <td>20</td>\n      <td>إِنَّ رَبَّكَ يَعْلَمُ أَنَّكَ تَقُومُ أَدْنَى...</td>\n      <td>[إن, ربك, يعلم, أنك, تقوم, أدنى, من, ثلثى, ٱلي...</td>\n      <td>78</td>\n    </tr>\n    <tr>\n      <th>2843</th>\n      <td>24</td>\n      <td>31</td>\n      <td>وَقُل لِّلْمُؤْمِنَٰتِ يَغْضُضْنَ مِنْ أَبْصَٰ...</td>\n      <td>[وقل, للمؤمنت, يغضضن, من, أبصرهن, ويحفظن, فروج...</td>\n      <td>78</td>\n    </tr>\n    <tr>\n      <th>2873</th>\n      <td>24</td>\n      <td>61</td>\n      <td>لَّيْسَ عَلَى ٱلْأَعْمَىٰ حَرَجٌ وَلَا عَلَى ٱ...</td>\n      <td>[ليس, على, ٱلأعمى, حرج, ولا, على, ٱلأعرج, حرج,...</td>\n      <td>76</td>\n    </tr>\n    <tr>\n      <th>448</th>\n      <td>3</td>\n      <td>154</td>\n      <td>ثُمَّ أَنزَلَ عَلَيْكُم مِّنۢ بَعْدِ ٱلْغَمِّ ...</td>\n      <td>[ثم, أنزل, عليكم, منۢ, بعد, ٱلغم, أمنة, نعاسا,...</td>\n      <td>75</td>\n    </tr>\n    <tr>\n      <th>109</th>\n      <td>2</td>\n      <td>102</td>\n      <td>وَٱتَّبَعُوا۟ مَا تَتْلُوا۟ ٱلشَّيَٰطِينُ عَلَ...</td>\n      <td>[وٱتبعوا۟, ما, تتلوا۟, ٱلشيطين, على, ملك, سليم...</td>\n      <td>74</td>\n    </tr>\n    <tr>\n      <th>203</th>\n      <td>2</td>\n      <td>196</td>\n      <td>وَأَتِمُّوا۟ ٱلْحَجَّ وَٱلْعُمْرَةَ لِلَّهِ فَ...</td>\n      <td>[وأتموا۟, ٱلحج, وٱلعمرة, لله, فإن, أحصرتم, فما...</td>\n      <td>73</td>\n    </tr>\n    <tr>\n      <th>506</th>\n      <td>4</td>\n      <td>11</td>\n      <td>يُوصِيكُمُ ٱللَّهُ فِىٓ أَوْلَٰدِكُمْ لِلذَّكَ...</td>\n      <td>[يوصيكم, ٱلله, فىٓ, أولدكم, للذكر, مثل, حظ, ٱل...</td>\n      <td>71</td>\n    </tr>\n    <tr>\n      <th>3616</th>\n      <td>33</td>\n      <td>53</td>\n      <td>يَٰٓأَيُّهَا ٱلَّذِينَ ءَامَنُوا۟ لَا تَدْخُلُ...</td>\n      <td>[يٓأيها, ٱلذين, ءامنوا۟, لا, تدخلوا۟, بيوت, ٱل...</td>\n      <td>69</td>\n    </tr>\n  </tbody>\n</table>\n</div>"
     },
     "metadata": {},
     "execution_count": 5
    }
   ],
   "source": [
    "# longest verse by word count\n",
    "df.sort_values('word_count', ascending=False).head(10)"
   ]
  },
  {
   "cell_type": "code",
   "execution_count": 6,
   "metadata": {},
   "outputs": [
    {
     "output_type": "execute_result",
     "data": {
      "text/plain": [
       "      sura  verse              text        words  word_count\n",
       "2366    20      1                طه         [طه]           1\n",
       "5390    69      1      ٱلْحَآقَّةُ    [ٱلحآقة]           1\n",
       "6080    89      1       وَٱلْفَجْرِ     [وٱلفجر]           1\n",
       "3739    36      1               يسٓ        [يسٓ]           1\n",
       "4554    46      1               حمٓ        [حمٓ]           1\n",
       "4516    45      1               حمٓ        [حمٓ]           1\n",
       "5017    55     64  مُدْهَآمَّتَانِ  [مدهآمتان]           1\n",
       "6275   103      1       وَٱلْعَصْرِ     [وٱلعصر]           1\n",
       "960      7      1           الٓمٓصٓ    [الٓمٓصٓ]           1\n",
       "2267    19      1          كٓهيعٓصٓ   [كٓهيعٓصٓ]           1"
      ],
      "text/html": "<div>\n<style scoped>\n    .dataframe tbody tr th:only-of-type {\n        vertical-align: middle;\n    }\n\n    .dataframe tbody tr th {\n        vertical-align: top;\n    }\n\n    .dataframe thead th {\n        text-align: right;\n    }\n</style>\n<table border=\"1\" class=\"dataframe\">\n  <thead>\n    <tr style=\"text-align: right;\">\n      <th></th>\n      <th>sura</th>\n      <th>verse</th>\n      <th>text</th>\n      <th>words</th>\n      <th>word_count</th>\n    </tr>\n  </thead>\n  <tbody>\n    <tr>\n      <th>2366</th>\n      <td>20</td>\n      <td>1</td>\n      <td>طه</td>\n      <td>[طه]</td>\n      <td>1</td>\n    </tr>\n    <tr>\n      <th>5390</th>\n      <td>69</td>\n      <td>1</td>\n      <td>ٱلْحَآقَّةُ</td>\n      <td>[ٱلحآقة]</td>\n      <td>1</td>\n    </tr>\n    <tr>\n      <th>6080</th>\n      <td>89</td>\n      <td>1</td>\n      <td>وَٱلْفَجْرِ</td>\n      <td>[وٱلفجر]</td>\n      <td>1</td>\n    </tr>\n    <tr>\n      <th>3739</th>\n      <td>36</td>\n      <td>1</td>\n      <td>يسٓ</td>\n      <td>[يسٓ]</td>\n      <td>1</td>\n    </tr>\n    <tr>\n      <th>4554</th>\n      <td>46</td>\n      <td>1</td>\n      <td>حمٓ</td>\n      <td>[حمٓ]</td>\n      <td>1</td>\n    </tr>\n    <tr>\n      <th>4516</th>\n      <td>45</td>\n      <td>1</td>\n      <td>حمٓ</td>\n      <td>[حمٓ]</td>\n      <td>1</td>\n    </tr>\n    <tr>\n      <th>5017</th>\n      <td>55</td>\n      <td>64</td>\n      <td>مُدْهَآمَّتَانِ</td>\n      <td>[مدهآمتان]</td>\n      <td>1</td>\n    </tr>\n    <tr>\n      <th>6275</th>\n      <td>103</td>\n      <td>1</td>\n      <td>وَٱلْعَصْرِ</td>\n      <td>[وٱلعصر]</td>\n      <td>1</td>\n    </tr>\n    <tr>\n      <th>960</th>\n      <td>7</td>\n      <td>1</td>\n      <td>الٓمٓصٓ</td>\n      <td>[الٓمٓصٓ]</td>\n      <td>1</td>\n    </tr>\n    <tr>\n      <th>2267</th>\n      <td>19</td>\n      <td>1</td>\n      <td>كٓهيعٓصٓ</td>\n      <td>[كٓهيعٓصٓ]</td>\n      <td>1</td>\n    </tr>\n  </tbody>\n</table>\n</div>"
     },
     "metadata": {},
     "execution_count": 6
    }
   ],
   "source": [
    "# shortest verse by word count\n",
    "df.sort_values('word_count').head(10)"
   ]
  },
  {
   "cell_type": "code",
   "execution_count": 21,
   "metadata": {},
   "outputs": [
    {
     "output_type": "execute_result",
     "data": {
      "text/plain": [
       "      sura  verse    word\n",
       "0        1      1     بسم\n",
       "0        1      1    ٱلله\n",
       "0        1      1  ٱلرحمن\n",
       "0        1      1  ٱلرحيم\n",
       "1        1      2   ٱلحمد\n",
       "...    ...    ...     ...\n",
       "6344   114      5    صدور\n",
       "6344   114      5   ٱلناس\n",
       "6345   114      6      من\n",
       "6345   114      6   ٱلجنة\n",
       "6345   114      6  وٱلناس\n",
       "\n",
       "[77878 rows x 3 columns]"
      ],
      "text/html": "<div>\n<style scoped>\n    .dataframe tbody tr th:only-of-type {\n        vertical-align: middle;\n    }\n\n    .dataframe tbody tr th {\n        vertical-align: top;\n    }\n\n    .dataframe thead th {\n        text-align: right;\n    }\n</style>\n<table border=\"1\" class=\"dataframe\">\n  <thead>\n    <tr style=\"text-align: right;\">\n      <th></th>\n      <th>sura</th>\n      <th>verse</th>\n      <th>word</th>\n    </tr>\n  </thead>\n  <tbody>\n    <tr>\n      <th>0</th>\n      <td>1</td>\n      <td>1</td>\n      <td>بسم</td>\n    </tr>\n    <tr>\n      <th>0</th>\n      <td>1</td>\n      <td>1</td>\n      <td>ٱلله</td>\n    </tr>\n    <tr>\n      <th>0</th>\n      <td>1</td>\n      <td>1</td>\n      <td>ٱلرحمن</td>\n    </tr>\n    <tr>\n      <th>0</th>\n      <td>1</td>\n      <td>1</td>\n      <td>ٱلرحيم</td>\n    </tr>\n    <tr>\n      <th>1</th>\n      <td>1</td>\n      <td>2</td>\n      <td>ٱلحمد</td>\n    </tr>\n    <tr>\n      <th>...</th>\n      <td>...</td>\n      <td>...</td>\n      <td>...</td>\n    </tr>\n    <tr>\n      <th>6344</th>\n      <td>114</td>\n      <td>5</td>\n      <td>صدور</td>\n    </tr>\n    <tr>\n      <th>6344</th>\n      <td>114</td>\n      <td>5</td>\n      <td>ٱلناس</td>\n    </tr>\n    <tr>\n      <th>6345</th>\n      <td>114</td>\n      <td>6</td>\n      <td>من</td>\n    </tr>\n    <tr>\n      <th>6345</th>\n      <td>114</td>\n      <td>6</td>\n      <td>ٱلجنة</td>\n    </tr>\n    <tr>\n      <th>6345</th>\n      <td>114</td>\n      <td>6</td>\n      <td>وٱلناس</td>\n    </tr>\n  </tbody>\n</table>\n<p>77878 rows × 3 columns</p>\n</div>"
     },
     "metadata": {},
     "execution_count": 21
    }
   ],
   "source": [
    "df_words = df[['sura','verse','words']].explode('words').rename(columns={'words': 'word'})\n",
    "df_words"
   ]
  },
  {
   "cell_type": "code",
   "execution_count": 22,
   "metadata": {},
   "outputs": [
    {
     "output_type": "execute_result",
     "data": {
      "text/plain": [
       "      sura  verse          word  wordlen\n",
       "1424    10     53  ويستنۢبـٔونك       12\n",
       "2871    24     59  فليستـٔذنوا۟       12\n",
       "1838    15     24   ٱلمستـٔخرين       11\n",
       "622      4    127   وٱلمستضعفين       11\n",
       "4262    41      6   فٱستقيموٓا۟       11\n",
       "3197    27     14   وٱستيقنتهآ       11\n",
       "570      4     75   وٱلمستضعفين       11\n",
       "578      4     83   يستنۢبطونهۥ       11\n",
       "4491    44     36   بـٔابآئنآ       11\n",
       "2174    18     19   ليتسآءلوا۟       11"
      ],
      "text/html": "<div>\n<style scoped>\n    .dataframe tbody tr th:only-of-type {\n        vertical-align: middle;\n    }\n\n    .dataframe tbody tr th {\n        vertical-align: top;\n    }\n\n    .dataframe thead th {\n        text-align: right;\n    }\n</style>\n<table border=\"1\" class=\"dataframe\">\n  <thead>\n    <tr style=\"text-align: right;\">\n      <th></th>\n      <th>sura</th>\n      <th>verse</th>\n      <th>word</th>\n      <th>wordlen</th>\n    </tr>\n  </thead>\n  <tbody>\n    <tr>\n      <th>1424</th>\n      <td>10</td>\n      <td>53</td>\n      <td>ويستنۢبـٔونك</td>\n      <td>12</td>\n    </tr>\n    <tr>\n      <th>2871</th>\n      <td>24</td>\n      <td>59</td>\n      <td>فليستـٔذنوا۟</td>\n      <td>12</td>\n    </tr>\n    <tr>\n      <th>1838</th>\n      <td>15</td>\n      <td>24</td>\n      <td>ٱلمستـٔخرين</td>\n      <td>11</td>\n    </tr>\n    <tr>\n      <th>622</th>\n      <td>4</td>\n      <td>127</td>\n      <td>وٱلمستضعفين</td>\n      <td>11</td>\n    </tr>\n    <tr>\n      <th>4262</th>\n      <td>41</td>\n      <td>6</td>\n      <td>فٱستقيموٓا۟</td>\n      <td>11</td>\n    </tr>\n    <tr>\n      <th>3197</th>\n      <td>27</td>\n      <td>14</td>\n      <td>وٱستيقنتهآ</td>\n      <td>11</td>\n    </tr>\n    <tr>\n      <th>570</th>\n      <td>4</td>\n      <td>75</td>\n      <td>وٱلمستضعفين</td>\n      <td>11</td>\n    </tr>\n    <tr>\n      <th>578</th>\n      <td>4</td>\n      <td>83</td>\n      <td>يستنۢبطونهۥ</td>\n      <td>11</td>\n    </tr>\n    <tr>\n      <th>4491</th>\n      <td>44</td>\n      <td>36</td>\n      <td>بـٔابآئنآ</td>\n      <td>11</td>\n    </tr>\n    <tr>\n      <th>2174</th>\n      <td>18</td>\n      <td>19</td>\n      <td>ليتسآءلوا۟</td>\n      <td>11</td>\n    </tr>\n  </tbody>\n</table>\n</div>"
     },
     "metadata": {},
     "execution_count": 22
    }
   ],
   "source": [
    "#longest word in the quran\n",
    "df_words['wordlen'] = df_words['word'].apply(len)\n",
    "df_words.sort_values('wordlen', ascending=False).head(10)"
   ]
  },
  {
   "cell_type": "code",
   "execution_count": 30,
   "metadata": {},
   "outputs": [
    {
     "output_type": "execute_result",
     "data": {
      "text/plain": [
       "        word  count\n",
       "9373      من   2589\n",
       "15444   ٱلله   2265\n",
       "6910      فى   1099\n",
       "1447      إن    966\n",
       "8709      ما    873\n",
       "14998  ٱلذين    811\n",
       "7850      لا    749\n",
       "1091      أن    637\n",
       "11637    ولا    605\n",
       "5734     على    605"
      ],
      "text/html": "<div>\n<style scoped>\n    .dataframe tbody tr th:only-of-type {\n        vertical-align: middle;\n    }\n\n    .dataframe tbody tr th {\n        vertical-align: top;\n    }\n\n    .dataframe thead th {\n        text-align: right;\n    }\n</style>\n<table border=\"1\" class=\"dataframe\">\n  <thead>\n    <tr style=\"text-align: right;\">\n      <th></th>\n      <th>word</th>\n      <th>count</th>\n    </tr>\n  </thead>\n  <tbody>\n    <tr>\n      <th>9373</th>\n      <td>من</td>\n      <td>2589</td>\n    </tr>\n    <tr>\n      <th>15444</th>\n      <td>ٱلله</td>\n      <td>2265</td>\n    </tr>\n    <tr>\n      <th>6910</th>\n      <td>فى</td>\n      <td>1099</td>\n    </tr>\n    <tr>\n      <th>1447</th>\n      <td>إن</td>\n      <td>966</td>\n    </tr>\n    <tr>\n      <th>8709</th>\n      <td>ما</td>\n      <td>873</td>\n    </tr>\n    <tr>\n      <th>14998</th>\n      <td>ٱلذين</td>\n      <td>811</td>\n    </tr>\n    <tr>\n      <th>7850</th>\n      <td>لا</td>\n      <td>749</td>\n    </tr>\n    <tr>\n      <th>1091</th>\n      <td>أن</td>\n      <td>637</td>\n    </tr>\n    <tr>\n      <th>11637</th>\n      <td>ولا</td>\n      <td>605</td>\n    </tr>\n    <tr>\n      <th>5734</th>\n      <td>على</td>\n      <td>605</td>\n    </tr>\n  </tbody>\n</table>\n</div>"
     },
     "metadata": {},
     "execution_count": 30
    }
   ],
   "source": [
    "df_word_occurence = df_words[['word','verse']].groupby('word').count().rename(columns={'verse': 'count'}).reset_index()\n",
    "# most occuring word\n",
    "df_word_occurence.sort_values('count', ascending=False).head(10)"
   ]
  },
  {
   "cell_type": "code",
   "execution_count": 37,
   "metadata": {},
   "outputs": [
    {
     "output_type": "execute_result",
     "data": {
      "text/plain": [
       "                       word\n",
       "count                      \n",
       "605              [على, ولا]\n",
       "337              [لكم, ومن]\n",
       "280               [أو, ذلك]\n",
       "182         [ٱلسموت, ٱلناس]\n",
       "164         [عليكم, وٱلذين]\n",
       "157        [وٱلأرض, ٱلرحمن]\n",
       "146          [عليه, ٱلرحيم]\n",
       "137        [عذاب, مآ, وهم]\n",
       "127                [بل, رب]\n",
       "126               [فيه, قد]\n",
       "116            [لله, يشآء]\n",
       "115              [إنا, بسم]\n",
       "111       [ربهم, ولكن, ولو]\n",
       "109         [ٱلحق, ٱلسمآء]\n",
       "102      [خير, ربكم, ٱلنار]\n",
       "95              [أنزل, حتى]\n",
       "86      [فىٓ, كذلك, يؤمنون]\n",
       "85     [إنما, وقال, ٱلعذاب]\n",
       "81        [إنى, سبيل, علىٓ]\n",
       "80             [خلق, للذين]"
      ],
      "text/html": "<div>\n<style scoped>\n    .dataframe tbody tr th:only-of-type {\n        vertical-align: middle;\n    }\n\n    .dataframe tbody tr th {\n        vertical-align: top;\n    }\n\n    .dataframe thead th {\n        text-align: right;\n    }\n</style>\n<table border=\"1\" class=\"dataframe\">\n  <thead>\n    <tr style=\"text-align: right;\">\n      <th></th>\n      <th>word</th>\n    </tr>\n    <tr>\n      <th>count</th>\n      <th></th>\n    </tr>\n  </thead>\n  <tbody>\n    <tr>\n      <th>605</th>\n      <td>[على, ولا]</td>\n    </tr>\n    <tr>\n      <th>337</th>\n      <td>[لكم, ومن]</td>\n    </tr>\n    <tr>\n      <th>280</th>\n      <td>[أو, ذلك]</td>\n    </tr>\n    <tr>\n      <th>182</th>\n      <td>[ٱلسموت, ٱلناس]</td>\n    </tr>\n    <tr>\n      <th>164</th>\n      <td>[عليكم, وٱلذين]</td>\n    </tr>\n    <tr>\n      <th>157</th>\n      <td>[وٱلأرض, ٱلرحمن]</td>\n    </tr>\n    <tr>\n      <th>146</th>\n      <td>[عليه, ٱلرحيم]</td>\n    </tr>\n    <tr>\n      <th>137</th>\n      <td>[عذاب, مآ, وهم]</td>\n    </tr>\n    <tr>\n      <th>127</th>\n      <td>[بل, رب]</td>\n    </tr>\n    <tr>\n      <th>126</th>\n      <td>[فيه, قد]</td>\n    </tr>\n    <tr>\n      <th>116</th>\n      <td>[لله, يشآء]</td>\n    </tr>\n    <tr>\n      <th>115</th>\n      <td>[إنا, بسم]</td>\n    </tr>\n    <tr>\n      <th>111</th>\n      <td>[ربهم, ولكن, ولو]</td>\n    </tr>\n    <tr>\n      <th>109</th>\n      <td>[ٱلحق, ٱلسمآء]</td>\n    </tr>\n    <tr>\n      <th>102</th>\n      <td>[خير, ربكم, ٱلنار]</td>\n    </tr>\n    <tr>\n      <th>95</th>\n      <td>[أنزل, حتى]</td>\n    </tr>\n    <tr>\n      <th>86</th>\n      <td>[فىٓ, كذلك, يؤمنون]</td>\n    </tr>\n    <tr>\n      <th>85</th>\n      <td>[إنما, وقال, ٱلعذاب]</td>\n    </tr>\n    <tr>\n      <th>81</th>\n      <td>[إنى, سبيل, علىٓ]</td>\n    </tr>\n    <tr>\n      <th>80</th>\n      <td>[خلق, للذين]</td>\n    </tr>\n  </tbody>\n</table>\n</div>"
     },
     "metadata": {},
     "execution_count": 37
    }
   ],
   "source": [
    "# word that has the same occurences\n",
    "df_word_same_occurence = df_word_occurence.groupby('count').agg(list)\n",
    "df_word_same_occurence = df_word_same_occurence[df_word_same_occurence['word'].apply(len) > 1]\n",
    "df_word_same_occurence.sort_index(ascending=False).head(20)"
   ]
  }
 ]
}