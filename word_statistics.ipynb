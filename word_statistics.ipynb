{
 "metadata": {
  "language_info": {
   "codemirror_mode": {
    "name": "ipython",
    "version": 3
   },
   "file_extension": ".py",
   "mimetype": "text/x-python",
   "name": "python",
   "nbconvert_exporter": "python",
   "pygments_lexer": "ipython3",
   "version": "3.8.6-final"
  },
  "orig_nbformat": 2,
  "kernelspec": {
   "name": "Python 3.8.6 64-bit",
   "display_name": "Python 3.8.6 64-bit",
   "metadata": {
    "interpreter": {
     "hash": "767d51c1340bd893661ea55ea3124f6de3c7a262a8b4abca0554b478b1e2ff90"
    }
   }
  }
 },
 "nbformat": 4,
 "nbformat_minor": 2,
 "cells": [
  {
   "cell_type": "code",
   "execution_count": 42,
   "metadata": {},
   "outputs": [],
   "source": [
    "import pandas as pd\n",
    "import collections\n",
    "\n",
    "# CONFIG = True then و will be splitted into its own word\n",
    "# Note: Currently, this will also split wrongly words like وقب\tto و and قب\t\n",
    "SPLIT_WAW = True\n",
    "\n",
    "with open('quran-text/quran-uthmani.txt') as f:\n",
    "    quran_text = [l.strip() for l in f if not l.strip().startswith('#') and l.strip()]"
   ]
  },
  {
   "cell_type": "code",
   "execution_count": 2,
   "metadata": {},
   "outputs": [
    {
     "output_type": "execute_result",
     "data": {
      "text/plain": [
       "      sura  verse                                      text\n",
       "0        1      1    بِسْمِ ٱللَّهِ ٱلرَّحْمَٰنِ ٱلرَّحِيمِ\n",
       "1        1      2     ٱلْحَمْدُ لِلَّهِ رَبِّ ٱلْعَٰلَمِينَ\n",
       "2        1      3                   ٱلرَّحْمَٰنِ ٱلرَّحِيمِ\n",
       "3        1      4                   مَٰلِكِ يَوْمِ ٱلدِّينِ\n",
       "4        1      5  إِيَّاكَ نَعْبُدُ وَإِيَّاكَ نَسْتَعِينُ\n",
       "...    ...    ...                                       ...\n",
       "6341   114      2                           مَلِكِ ٱلنَّاسِ\n",
       "6342   114      3                          إِلَٰهِ ٱلنَّاسِ\n",
       "6343   114      4        مِن شَرِّ ٱلْوَسْوَاسِ ٱلْخَنَّاسِ\n",
       "6344   114      5   ٱلَّذِى يُوَسْوِسُ فِى صُدُورِ ٱلنَّاسِ\n",
       "6345   114      6                مِنَ ٱلْجِنَّةِ وَٱلنَّاسِ\n",
       "\n",
       "[6346 rows x 3 columns]"
      ],
      "text/html": "<div>\n<style scoped>\n    .dataframe tbody tr th:only-of-type {\n        vertical-align: middle;\n    }\n\n    .dataframe tbody tr th {\n        vertical-align: top;\n    }\n\n    .dataframe thead th {\n        text-align: right;\n    }\n</style>\n<table border=\"1\" class=\"dataframe\">\n  <thead>\n    <tr style=\"text-align: right;\">\n      <th></th>\n      <th>sura</th>\n      <th>verse</th>\n      <th>text</th>\n    </tr>\n  </thead>\n  <tbody>\n    <tr>\n      <th>0</th>\n      <td>1</td>\n      <td>1</td>\n      <td>بِسْمِ ٱللَّهِ ٱلرَّحْمَٰنِ ٱلرَّحِيمِ</td>\n    </tr>\n    <tr>\n      <th>1</th>\n      <td>1</td>\n      <td>2</td>\n      <td>ٱلْحَمْدُ لِلَّهِ رَبِّ ٱلْعَٰلَمِينَ</td>\n    </tr>\n    <tr>\n      <th>2</th>\n      <td>1</td>\n      <td>3</td>\n      <td>ٱلرَّحْمَٰنِ ٱلرَّحِيمِ</td>\n    </tr>\n    <tr>\n      <th>3</th>\n      <td>1</td>\n      <td>4</td>\n      <td>مَٰلِكِ يَوْمِ ٱلدِّينِ</td>\n    </tr>\n    <tr>\n      <th>4</th>\n      <td>1</td>\n      <td>5</td>\n      <td>إِيَّاكَ نَعْبُدُ وَإِيَّاكَ نَسْتَعِينُ</td>\n    </tr>\n    <tr>\n      <th>...</th>\n      <td>...</td>\n      <td>...</td>\n      <td>...</td>\n    </tr>\n    <tr>\n      <th>6341</th>\n      <td>114</td>\n      <td>2</td>\n      <td>مَلِكِ ٱلنَّاسِ</td>\n    </tr>\n    <tr>\n      <th>6342</th>\n      <td>114</td>\n      <td>3</td>\n      <td>إِلَٰهِ ٱلنَّاسِ</td>\n    </tr>\n    <tr>\n      <th>6343</th>\n      <td>114</td>\n      <td>4</td>\n      <td>مِن شَرِّ ٱلْوَسْوَاسِ ٱلْخَنَّاسِ</td>\n    </tr>\n    <tr>\n      <th>6344</th>\n      <td>114</td>\n      <td>5</td>\n      <td>ٱلَّذِى يُوَسْوِسُ فِى صُدُورِ ٱلنَّاسِ</td>\n    </tr>\n    <tr>\n      <th>6345</th>\n      <td>114</td>\n      <td>6</td>\n      <td>مِنَ ٱلْجِنَّةِ وَٱلنَّاسِ</td>\n    </tr>\n  </tbody>\n</table>\n<p>6346 rows × 3 columns</p>\n</div>"
     },
     "metadata": {},
     "execution_count": 2
    }
   ],
   "source": [
    "FILTERED_CHARS = \\\n",
    "    '|123456789 \\t\\nًٌَُّْ\t' \\\n",
    "    'ِ ۫ ۨ ۬ ۬' \\\n",
    "    '۪ ۣۭۜ۠' \\\n",
    "    '\t' \\\n",
    "    'ٰ'\n",
    "def filter_char(text):\n",
    "    return ''.join(c for c in text if c not in FILTERED_CHARS)\n",
    "\n",
    "# split basmallah to its own\n",
    "i = 0 \n",
    "while i < len(quran_text):\n",
    "    aya = quran_text[i].split('|')\n",
    "    if aya[2].startswith('بِسْمِ ٱللَّهِ ٱلرَّحْمَٰنِ ٱلرَّحِيمِ '):\n",
    "        quran_text.insert(i, f'{aya[0]}|0|بِسْمِ ٱللَّهِ ٱلرَّحْمَٰنِ ٱلرَّحِيمِ')\n",
    "        i += 1\n",
    "        quran_text[i] = f'{aya[0]}|1|{aya[2][38:]}'\n",
    "    i += 1\n",
    "\n",
    "df = pd.DataFrame({'sura': int(a[0]), 'verse': int(a[1]), 'text': a[2]} for a in [a.split('|') for a in quran_text])\n",
    "df"
   ]
  },
  {
   "cell_type": "code",
   "execution_count": 45,
   "metadata": {},
   "outputs": [],
   "source": [
    "def split_filter_word(text):\n",
    "    words = [w for w in [filter_char(w) for w in text.split(' ')] if w.strip()]\n",
    "    if SPLIT_WAW:\n",
    "        i = 0\n",
    "        while i < len(words):\n",
    "            if words[i].startswith('و'):\n",
    "                words.insert(i, 'و')\n",
    "                i += 1\n",
    "                words[i] = words[i][1:]\n",
    "            i += 1\n",
    "\n",
    "    return words\n",
    "\n",
    "\n",
    "df['words'] = df.text.apply(split_filter_word)\n",
    "df['word_count'] = df.words.apply(lambda w: len(w))"
   ]
  },
  {
   "cell_type": "code",
   "execution_count": 4,
   "metadata": {},
   "outputs": [
    {
     "output_type": "execute_result",
     "data": {
      "text/plain": [
       "   sura  verse                                               text  \\\n",
       "0     1      1             بِسْمِ ٱللَّهِ ٱلرَّحْمَٰنِ ٱلرَّحِيمِ   \n",
       "1     1      2              ٱلْحَمْدُ لِلَّهِ رَبِّ ٱلْعَٰلَمِينَ   \n",
       "2     1      3                            ٱلرَّحْمَٰنِ ٱلرَّحِيمِ   \n",
       "3     1      4                            مَٰلِكِ يَوْمِ ٱلدِّينِ   \n",
       "4     1      5           إِيَّاكَ نَعْبُدُ وَإِيَّاكَ نَسْتَعِينُ   \n",
       "5     1      6                 ٱهْدِنَا ٱلصِّرَٰطَ ٱلْمُسْتَقِيمَ   \n",
       "6     1      7  صِرَٰطَ ٱلَّذِينَ أَنْعَمْتَ عَلَيْهِمْ غَيْرِ...   \n",
       "7     2      0             بِسْمِ ٱللَّهِ ٱلرَّحْمَٰنِ ٱلرَّحِيمِ   \n",
       "8     2      1                                              الٓمٓ   \n",
       "9     2      2  ذَٰلِكَ ٱلْكِتَٰبُ لَا رَيْبَ فِيهِ هُدًى لِّل...   \n",
       "\n",
       "                                               words  word_count  \n",
       "0                        [بسم, ٱلله, ٱلرحمن, ٱلرحيم]           4  \n",
       "1                          [ٱلحمد, لله, رب, ٱلعلمين]           4  \n",
       "2                                   [ٱلرحمن, ٱلرحيم]           2  \n",
       "3                                  [ملك, يوم, ٱلدين]           3  \n",
       "4                        [إياك, نعبد, وإياك, نستعين]           4  \n",
       "5                           [ٱهدنا, ٱلصرط, ٱلمستقيم]           3  \n",
       "6  [صرط, ٱلذين, أنعمت, عليهم, غير, ٱلمغضوب, عليهم...           9  \n",
       "7                        [بسم, ٱلله, ٱلرحمن, ٱلرحيم]           4  \n",
       "8                                            [الٓمٓ]           1  \n",
       "9           [ذلك, ٱلكتب, لا, ريب, فيه, هدى, للمتقين]           7  "
      ],
      "text/html": "<div>\n<style scoped>\n    .dataframe tbody tr th:only-of-type {\n        vertical-align: middle;\n    }\n\n    .dataframe tbody tr th {\n        vertical-align: top;\n    }\n\n    .dataframe thead th {\n        text-align: right;\n    }\n</style>\n<table border=\"1\" class=\"dataframe\">\n  <thead>\n    <tr style=\"text-align: right;\">\n      <th></th>\n      <th>sura</th>\n      <th>verse</th>\n      <th>text</th>\n      <th>words</th>\n      <th>word_count</th>\n    </tr>\n  </thead>\n  <tbody>\n    <tr>\n      <th>0</th>\n      <td>1</td>\n      <td>1</td>\n      <td>بِسْمِ ٱللَّهِ ٱلرَّحْمَٰنِ ٱلرَّحِيمِ</td>\n      <td>[بسم, ٱلله, ٱلرحمن, ٱلرحيم]</td>\n      <td>4</td>\n    </tr>\n    <tr>\n      <th>1</th>\n      <td>1</td>\n      <td>2</td>\n      <td>ٱلْحَمْدُ لِلَّهِ رَبِّ ٱلْعَٰلَمِينَ</td>\n      <td>[ٱلحمد, لله, رب, ٱلعلمين]</td>\n      <td>4</td>\n    </tr>\n    <tr>\n      <th>2</th>\n      <td>1</td>\n      <td>3</td>\n      <td>ٱلرَّحْمَٰنِ ٱلرَّحِيمِ</td>\n      <td>[ٱلرحمن, ٱلرحيم]</td>\n      <td>2</td>\n    </tr>\n    <tr>\n      <th>3</th>\n      <td>1</td>\n      <td>4</td>\n      <td>مَٰلِكِ يَوْمِ ٱلدِّينِ</td>\n      <td>[ملك, يوم, ٱلدين]</td>\n      <td>3</td>\n    </tr>\n    <tr>\n      <th>4</th>\n      <td>1</td>\n      <td>5</td>\n      <td>إِيَّاكَ نَعْبُدُ وَإِيَّاكَ نَسْتَعِينُ</td>\n      <td>[إياك, نعبد, وإياك, نستعين]</td>\n      <td>4</td>\n    </tr>\n    <tr>\n      <th>5</th>\n      <td>1</td>\n      <td>6</td>\n      <td>ٱهْدِنَا ٱلصِّرَٰطَ ٱلْمُسْتَقِيمَ</td>\n      <td>[ٱهدنا, ٱلصرط, ٱلمستقيم]</td>\n      <td>3</td>\n    </tr>\n    <tr>\n      <th>6</th>\n      <td>1</td>\n      <td>7</td>\n      <td>صِرَٰطَ ٱلَّذِينَ أَنْعَمْتَ عَلَيْهِمْ غَيْرِ...</td>\n      <td>[صرط, ٱلذين, أنعمت, عليهم, غير, ٱلمغضوب, عليهم...</td>\n      <td>9</td>\n    </tr>\n    <tr>\n      <th>7</th>\n      <td>2</td>\n      <td>0</td>\n      <td>بِسْمِ ٱللَّهِ ٱلرَّحْمَٰنِ ٱلرَّحِيمِ</td>\n      <td>[بسم, ٱلله, ٱلرحمن, ٱلرحيم]</td>\n      <td>4</td>\n    </tr>\n    <tr>\n      <th>8</th>\n      <td>2</td>\n      <td>1</td>\n      <td>الٓمٓ</td>\n      <td>[الٓمٓ]</td>\n      <td>1</td>\n    </tr>\n    <tr>\n      <th>9</th>\n      <td>2</td>\n      <td>2</td>\n      <td>ذَٰلِكَ ٱلْكِتَٰبُ لَا رَيْبَ فِيهِ هُدًى لِّل...</td>\n      <td>[ذلك, ٱلكتب, لا, ريب, فيه, هدى, للمتقين]</td>\n      <td>7</td>\n    </tr>\n  </tbody>\n</table>\n</div>"
     },
     "metadata": {},
     "execution_count": 4
    }
   ],
   "source": [
    "df.head(10)"
   ]
  },
  {
   "cell_type": "code",
   "execution_count": 46,
   "metadata": {},
   "outputs": [
    {
     "output_type": "execute_result",
     "data": {
      "text/plain": [
       "      sura  verse                                               text  \\\n",
       "289      2    282  يَٰٓأَيُّهَا ٱلَّذِينَ ءَامَنُوٓا۟ إِذَا تَدَا...   \n",
       "507      4     12  وَلَكُمْ نِصْفُ مَا تَرَكَ أَزْوَٰجُكُمْ إِن ل...   \n",
       "5565    73     20  إِنَّ رَبَّكَ يَعْلَمُ أَنَّكَ تَقُومُ أَدْنَى...   \n",
       "109      2    102  وَٱتَّبَعُوا۟ مَا تَتْلُوا۟ ٱلشَّيَٰطِينُ عَلَ...   \n",
       "2843    24     31  وَقُل لِّلْمُؤْمِنَٰتِ يَغْضُضْنَ مِنْ أَبْصَٰ...   \n",
       "506      4     11  يُوصِيكُمُ ٱللَّهُ فِىٓ أَوْلَٰدِكُمْ لِلذَّكَ...   \n",
       "203      2    196  وَأَتِمُّوا۟ ٱلْحَجَّ وَٱلْعُمْرَةَ لِلَّهِ فَ...   \n",
       "2873    24     61  لَّيْسَ عَلَى ٱلْأَعْمَىٰ حَرَجٌ وَلَا عَلَى ٱ...   \n",
       "448      3    154  ثُمَّ أَنزَلَ عَلَيْكُم مِّنۢ بَعْدِ ٱلْغَمِّ ...   \n",
       "3616    33     53  يَٰٓأَيُّهَا ٱلَّذِينَ ءَامَنُوا۟ لَا تَدْخُلُ...   \n",
       "\n",
       "                                                  words  word_count  \n",
       "289   [يٓأيها, ٱلذين, ءامنوٓا۟, إذا, تداينتم, بدينٍ,...         147  \n",
       "507   [و, لكم, نصف, ما, ترك, أزوجكم, إن, لم, يكن, له...         102  \n",
       "5565  [إن, ربك, يعلم, أنك, تقوم, أدنى, من, ثلثى, ٱلي...          91  \n",
       "109   [و, ٱتبعوا۟, ما, تتلوا۟, ٱلشيطين, على, ملك, سل...          86  \n",
       "2843  [و, قل, للمؤمنت, يغضضن, من, أبصرهن, و, يحفظن, ...          85  \n",
       "506   [يوصيكم, ٱلله, فىٓ, أولدكم, للذكر, مثل, حظ, ٱل...          80  \n",
       "203   [و, أتموا۟, ٱلحج, و, ٱلعمرة, لله, فإن, أحصرتم,...          79  \n",
       "2873  [ليس, على, ٱلأعمى, حرج, و, لا, على, ٱلأعرج, حر...          79  \n",
       "448   [ثم, أنزل, عليكم, منۢ, بعد, ٱلغم, أمنة, نعاسا,...          79  \n",
       "3616  [يٓأيها, ٱلذين, ءامنوا۟, لا, تدخلوا۟, بيوت, ٱل...          77  "
      ],
      "text/html": "<div>\n<style scoped>\n    .dataframe tbody tr th:only-of-type {\n        vertical-align: middle;\n    }\n\n    .dataframe tbody tr th {\n        vertical-align: top;\n    }\n\n    .dataframe thead th {\n        text-align: right;\n    }\n</style>\n<table border=\"1\" class=\"dataframe\">\n  <thead>\n    <tr style=\"text-align: right;\">\n      <th></th>\n      <th>sura</th>\n      <th>verse</th>\n      <th>text</th>\n      <th>words</th>\n      <th>word_count</th>\n    </tr>\n  </thead>\n  <tbody>\n    <tr>\n      <th>289</th>\n      <td>2</td>\n      <td>282</td>\n      <td>يَٰٓأَيُّهَا ٱلَّذِينَ ءَامَنُوٓا۟ إِذَا تَدَا...</td>\n      <td>[يٓأيها, ٱلذين, ءامنوٓا۟, إذا, تداينتم, بدينٍ,...</td>\n      <td>147</td>\n    </tr>\n    <tr>\n      <th>507</th>\n      <td>4</td>\n      <td>12</td>\n      <td>وَلَكُمْ نِصْفُ مَا تَرَكَ أَزْوَٰجُكُمْ إِن ل...</td>\n      <td>[و, لكم, نصف, ما, ترك, أزوجكم, إن, لم, يكن, له...</td>\n      <td>102</td>\n    </tr>\n    <tr>\n      <th>5565</th>\n      <td>73</td>\n      <td>20</td>\n      <td>إِنَّ رَبَّكَ يَعْلَمُ أَنَّكَ تَقُومُ أَدْنَى...</td>\n      <td>[إن, ربك, يعلم, أنك, تقوم, أدنى, من, ثلثى, ٱلي...</td>\n      <td>91</td>\n    </tr>\n    <tr>\n      <th>109</th>\n      <td>2</td>\n      <td>102</td>\n      <td>وَٱتَّبَعُوا۟ مَا تَتْلُوا۟ ٱلشَّيَٰطِينُ عَلَ...</td>\n      <td>[و, ٱتبعوا۟, ما, تتلوا۟, ٱلشيطين, على, ملك, سل...</td>\n      <td>86</td>\n    </tr>\n    <tr>\n      <th>2843</th>\n      <td>24</td>\n      <td>31</td>\n      <td>وَقُل لِّلْمُؤْمِنَٰتِ يَغْضُضْنَ مِنْ أَبْصَٰ...</td>\n      <td>[و, قل, للمؤمنت, يغضضن, من, أبصرهن, و, يحفظن, ...</td>\n      <td>85</td>\n    </tr>\n    <tr>\n      <th>506</th>\n      <td>4</td>\n      <td>11</td>\n      <td>يُوصِيكُمُ ٱللَّهُ فِىٓ أَوْلَٰدِكُمْ لِلذَّكَ...</td>\n      <td>[يوصيكم, ٱلله, فىٓ, أولدكم, للذكر, مثل, حظ, ٱل...</td>\n      <td>80</td>\n    </tr>\n    <tr>\n      <th>203</th>\n      <td>2</td>\n      <td>196</td>\n      <td>وَأَتِمُّوا۟ ٱلْحَجَّ وَٱلْعُمْرَةَ لِلَّهِ فَ...</td>\n      <td>[و, أتموا۟, ٱلحج, و, ٱلعمرة, لله, فإن, أحصرتم,...</td>\n      <td>79</td>\n    </tr>\n    <tr>\n      <th>2873</th>\n      <td>24</td>\n      <td>61</td>\n      <td>لَّيْسَ عَلَى ٱلْأَعْمَىٰ حَرَجٌ وَلَا عَلَى ٱ...</td>\n      <td>[ليس, على, ٱلأعمى, حرج, و, لا, على, ٱلأعرج, حر...</td>\n      <td>79</td>\n    </tr>\n    <tr>\n      <th>448</th>\n      <td>3</td>\n      <td>154</td>\n      <td>ثُمَّ أَنزَلَ عَلَيْكُم مِّنۢ بَعْدِ ٱلْغَمِّ ...</td>\n      <td>[ثم, أنزل, عليكم, منۢ, بعد, ٱلغم, أمنة, نعاسا,...</td>\n      <td>79</td>\n    </tr>\n    <tr>\n      <th>3616</th>\n      <td>33</td>\n      <td>53</td>\n      <td>يَٰٓأَيُّهَا ٱلَّذِينَ ءَامَنُوا۟ لَا تَدْخُلُ...</td>\n      <td>[يٓأيها, ٱلذين, ءامنوا۟, لا, تدخلوا۟, بيوت, ٱل...</td>\n      <td>77</td>\n    </tr>\n  </tbody>\n</table>\n</div>"
     },
     "metadata": {},
     "execution_count": 46
    }
   ],
   "source": [
    "# longest verse by word count\n",
    "df.sort_values('word_count', ascending=False).head(10)"
   ]
  },
  {
   "cell_type": "code",
   "execution_count": 47,
   "metadata": {},
   "outputs": [
    {
     "output_type": "execute_result",
     "data": {
      "text/plain": [
       "      sura  verse       text       words  word_count\n",
       "295      3      1      الٓمٓ     [الٓمٓ]           1\n",
       "3498    31      1      الٓمٓ     [الٓمٓ]           1\n",
       "4516    45      1        حمٓ       [حمٓ]           1\n",
       "2956    26      1      طسٓمٓ     [طسٓمٓ]           1\n",
       "4456    44      1        حمٓ       [حمٓ]           1\n",
       "3533    32      1      الٓمٓ     [الٓمٓ]           1\n",
       "2267    19      1   كٓهيعٓصٓ  [كٓهيعٓصٓ]           1\n",
       "3437    30      1      الٓمٓ     [الٓمٓ]           1\n",
       "4366    43      1        حمٓ       [حمٓ]           1\n",
       "4313    42      2     عٓسٓقٓ    [عٓسٓقٓ]           1"
      ],
      "text/html": "<div>\n<style scoped>\n    .dataframe tbody tr th:only-of-type {\n        vertical-align: middle;\n    }\n\n    .dataframe tbody tr th {\n        vertical-align: top;\n    }\n\n    .dataframe thead th {\n        text-align: right;\n    }\n</style>\n<table border=\"1\" class=\"dataframe\">\n  <thead>\n    <tr style=\"text-align: right;\">\n      <th></th>\n      <th>sura</th>\n      <th>verse</th>\n      <th>text</th>\n      <th>words</th>\n      <th>word_count</th>\n    </tr>\n  </thead>\n  <tbody>\n    <tr>\n      <th>295</th>\n      <td>3</td>\n      <td>1</td>\n      <td>الٓمٓ</td>\n      <td>[الٓمٓ]</td>\n      <td>1</td>\n    </tr>\n    <tr>\n      <th>3498</th>\n      <td>31</td>\n      <td>1</td>\n      <td>الٓمٓ</td>\n      <td>[الٓمٓ]</td>\n      <td>1</td>\n    </tr>\n    <tr>\n      <th>4516</th>\n      <td>45</td>\n      <td>1</td>\n      <td>حمٓ</td>\n      <td>[حمٓ]</td>\n      <td>1</td>\n    </tr>\n    <tr>\n      <th>2956</th>\n      <td>26</td>\n      <td>1</td>\n      <td>طسٓمٓ</td>\n      <td>[طسٓمٓ]</td>\n      <td>1</td>\n    </tr>\n    <tr>\n      <th>4456</th>\n      <td>44</td>\n      <td>1</td>\n      <td>حمٓ</td>\n      <td>[حمٓ]</td>\n      <td>1</td>\n    </tr>\n    <tr>\n      <th>3533</th>\n      <td>32</td>\n      <td>1</td>\n      <td>الٓمٓ</td>\n      <td>[الٓمٓ]</td>\n      <td>1</td>\n    </tr>\n    <tr>\n      <th>2267</th>\n      <td>19</td>\n      <td>1</td>\n      <td>كٓهيعٓصٓ</td>\n      <td>[كٓهيعٓصٓ]</td>\n      <td>1</td>\n    </tr>\n    <tr>\n      <th>3437</th>\n      <td>30</td>\n      <td>1</td>\n      <td>الٓمٓ</td>\n      <td>[الٓمٓ]</td>\n      <td>1</td>\n    </tr>\n    <tr>\n      <th>4366</th>\n      <td>43</td>\n      <td>1</td>\n      <td>حمٓ</td>\n      <td>[حمٓ]</td>\n      <td>1</td>\n    </tr>\n    <tr>\n      <th>4313</th>\n      <td>42</td>\n      <td>2</td>\n      <td>عٓسٓقٓ</td>\n      <td>[عٓسٓقٓ]</td>\n      <td>1</td>\n    </tr>\n  </tbody>\n</table>\n</div>"
     },
     "metadata": {},
     "execution_count": 47
    }
   ],
   "source": [
    "# shortest verse by word count\n",
    "df.sort_values('word_count').head(10)"
   ]
  },
  {
   "cell_type": "code",
   "execution_count": 48,
   "metadata": {},
   "outputs": [
    {
     "output_type": "execute_result",
     "data": {
      "text/plain": [
       "      sura  verse    word\n",
       "0        1      1     بسم\n",
       "0        1      1    ٱلله\n",
       "0        1      1  ٱلرحمن\n",
       "0        1      1  ٱلرحيم\n",
       "1        1      2   ٱلحمد\n",
       "...    ...    ...     ...\n",
       "6344   114      5   ٱلناس\n",
       "6345   114      6      من\n",
       "6345   114      6   ٱلجنة\n",
       "6345   114      6       و\n",
       "6345   114      6   ٱلناس\n",
       "\n",
       "[87952 rows x 3 columns]"
      ],
      "text/html": "<div>\n<style scoped>\n    .dataframe tbody tr th:only-of-type {\n        vertical-align: middle;\n    }\n\n    .dataframe tbody tr th {\n        vertical-align: top;\n    }\n\n    .dataframe thead th {\n        text-align: right;\n    }\n</style>\n<table border=\"1\" class=\"dataframe\">\n  <thead>\n    <tr style=\"text-align: right;\">\n      <th></th>\n      <th>sura</th>\n      <th>verse</th>\n      <th>word</th>\n    </tr>\n  </thead>\n  <tbody>\n    <tr>\n      <th>0</th>\n      <td>1</td>\n      <td>1</td>\n      <td>بسم</td>\n    </tr>\n    <tr>\n      <th>0</th>\n      <td>1</td>\n      <td>1</td>\n      <td>ٱلله</td>\n    </tr>\n    <tr>\n      <th>0</th>\n      <td>1</td>\n      <td>1</td>\n      <td>ٱلرحمن</td>\n    </tr>\n    <tr>\n      <th>0</th>\n      <td>1</td>\n      <td>1</td>\n      <td>ٱلرحيم</td>\n    </tr>\n    <tr>\n      <th>1</th>\n      <td>1</td>\n      <td>2</td>\n      <td>ٱلحمد</td>\n    </tr>\n    <tr>\n      <th>...</th>\n      <td>...</td>\n      <td>...</td>\n      <td>...</td>\n    </tr>\n    <tr>\n      <th>6344</th>\n      <td>114</td>\n      <td>5</td>\n      <td>ٱلناس</td>\n    </tr>\n    <tr>\n      <th>6345</th>\n      <td>114</td>\n      <td>6</td>\n      <td>من</td>\n    </tr>\n    <tr>\n      <th>6345</th>\n      <td>114</td>\n      <td>6</td>\n      <td>ٱلجنة</td>\n    </tr>\n    <tr>\n      <th>6345</th>\n      <td>114</td>\n      <td>6</td>\n      <td>و</td>\n    </tr>\n    <tr>\n      <th>6345</th>\n      <td>114</td>\n      <td>6</td>\n      <td>ٱلناس</td>\n    </tr>\n  </tbody>\n</table>\n<p>87952 rows × 3 columns</p>\n</div>"
     },
     "metadata": {},
     "execution_count": 48
    }
   ],
   "source": [
    "df_words = df[['sura','verse','words']].explode('words').rename(columns={'words': 'word'})\n",
    "df_words"
   ]
  },
  {
   "cell_type": "code",
   "execution_count": 49,
   "metadata": {},
   "outputs": [
    {
     "output_type": "execute_result",
     "data": {
      "text/plain": [
       "      sura  verse          word  wordlen\n",
       "2871    24     59  فليستـٔذنوا۟       12\n",
       "1153     7    194   فليستجيبوا۟       11\n",
       "193      2    186   فليستجيبوا۟       11\n",
       "578      4     83   يستنۢبطونهۥ       11\n",
       "4262    41      6   فٱستقيموٓا۟       11\n",
       "4491    44     36   بـٔابآئنآ       11\n",
       "2174    18     19   ليتسآءلوا۟       11\n",
       "1424    10     53   يستنۢبـٔونك       11\n",
       "1838    15     24   ٱلمستـٔخرين       11\n",
       "4540    45     25   بـٔابآئنآ       11"
      ],
      "text/html": "<div>\n<style scoped>\n    .dataframe tbody tr th:only-of-type {\n        vertical-align: middle;\n    }\n\n    .dataframe tbody tr th {\n        vertical-align: top;\n    }\n\n    .dataframe thead th {\n        text-align: right;\n    }\n</style>\n<table border=\"1\" class=\"dataframe\">\n  <thead>\n    <tr style=\"text-align: right;\">\n      <th></th>\n      <th>sura</th>\n      <th>verse</th>\n      <th>word</th>\n      <th>wordlen</th>\n    </tr>\n  </thead>\n  <tbody>\n    <tr>\n      <th>2871</th>\n      <td>24</td>\n      <td>59</td>\n      <td>فليستـٔذنوا۟</td>\n      <td>12</td>\n    </tr>\n    <tr>\n      <th>1153</th>\n      <td>7</td>\n      <td>194</td>\n      <td>فليستجيبوا۟</td>\n      <td>11</td>\n    </tr>\n    <tr>\n      <th>193</th>\n      <td>2</td>\n      <td>186</td>\n      <td>فليستجيبوا۟</td>\n      <td>11</td>\n    </tr>\n    <tr>\n      <th>578</th>\n      <td>4</td>\n      <td>83</td>\n      <td>يستنۢبطونهۥ</td>\n      <td>11</td>\n    </tr>\n    <tr>\n      <th>4262</th>\n      <td>41</td>\n      <td>6</td>\n      <td>فٱستقيموٓا۟</td>\n      <td>11</td>\n    </tr>\n    <tr>\n      <th>4491</th>\n      <td>44</td>\n      <td>36</td>\n      <td>بـٔابآئنآ</td>\n      <td>11</td>\n    </tr>\n    <tr>\n      <th>2174</th>\n      <td>18</td>\n      <td>19</td>\n      <td>ليتسآءلوا۟</td>\n      <td>11</td>\n    </tr>\n    <tr>\n      <th>1424</th>\n      <td>10</td>\n      <td>53</td>\n      <td>يستنۢبـٔونك</td>\n      <td>11</td>\n    </tr>\n    <tr>\n      <th>1838</th>\n      <td>15</td>\n      <td>24</td>\n      <td>ٱلمستـٔخرين</td>\n      <td>11</td>\n    </tr>\n    <tr>\n      <th>4540</th>\n      <td>45</td>\n      <td>25</td>\n      <td>بـٔابآئنآ</td>\n      <td>11</td>\n    </tr>\n  </tbody>\n</table>\n</div>"
     },
     "metadata": {},
     "execution_count": 49
    }
   ],
   "source": [
    "#longest word in the quran\n",
    "df_words['wordlen'] = df_words['word'].apply(len)\n",
    "df_words.sort_values('wordlen', ascending=False).head(10)"
   ]
  },
  {
   "cell_type": "code",
   "execution_count": 50,
   "metadata": {},
   "outputs": [
    {
     "output_type": "execute_result",
     "data": {
      "text/plain": [
       "        word  count\n",
       "11084      و  10074\n",
       "10252     من   2926\n",
       "13977   ٱلله   2505\n",
       "9561      ما   1385\n",
       "8568      لا   1354\n",
       "1606      إن   1220\n",
       "7556      فى   1125\n",
       "13476  ٱلذين    975\n",
       "1217      أن    705\n",
       "6346     على    640"
      ],
      "text/html": "<div>\n<style scoped>\n    .dataframe tbody tr th:only-of-type {\n        vertical-align: middle;\n    }\n\n    .dataframe tbody tr th {\n        vertical-align: top;\n    }\n\n    .dataframe thead th {\n        text-align: right;\n    }\n</style>\n<table border=\"1\" class=\"dataframe\">\n  <thead>\n    <tr style=\"text-align: right;\">\n      <th></th>\n      <th>word</th>\n      <th>count</th>\n    </tr>\n  </thead>\n  <tbody>\n    <tr>\n      <th>11084</th>\n      <td>و</td>\n      <td>10074</td>\n    </tr>\n    <tr>\n      <th>10252</th>\n      <td>من</td>\n      <td>2926</td>\n    </tr>\n    <tr>\n      <th>13977</th>\n      <td>ٱلله</td>\n      <td>2505</td>\n    </tr>\n    <tr>\n      <th>9561</th>\n      <td>ما</td>\n      <td>1385</td>\n    </tr>\n    <tr>\n      <th>8568</th>\n      <td>لا</td>\n      <td>1354</td>\n    </tr>\n    <tr>\n      <th>1606</th>\n      <td>إن</td>\n      <td>1220</td>\n    </tr>\n    <tr>\n      <th>7556</th>\n      <td>فى</td>\n      <td>1125</td>\n    </tr>\n    <tr>\n      <th>13476</th>\n      <td>ٱلذين</td>\n      <td>975</td>\n    </tr>\n    <tr>\n      <th>1217</th>\n      <td>أن</td>\n      <td>705</td>\n    </tr>\n    <tr>\n      <th>6346</th>\n      <td>على</td>\n      <td>640</td>\n    </tr>\n  </tbody>\n</table>\n</div>"
     },
     "metadata": {},
     "execution_count": 50
    }
   ],
   "source": [
    "df_word_occurence = df_words[['word','verse']].groupby('word').count().rename(columns={'verse': 'count'}).reset_index()\n",
    "# most occuring word\n",
    "df_word_occurence.sort_values('count', ascending=False).head(10)"
   ]
  },
  {
   "cell_type": "code",
   "execution_count": 51,
   "metadata": {},
   "outputs": [
    {
     "output_type": "execute_result",
     "data": {
      "text/plain": [
       "                           word\n",
       "count                          \n",
       "225                   [لم, لهۥ]\n",
       "179                 [منهم, منۢ]\n",
       "165               [إنهۥ, عليكم]\n",
       "143                  [إنا, لله]\n",
       "127                   [بل, فيه]\n",
       "116                [لآ, يشآء]\n",
       "111                 [ربهم, مما]\n",
       "110              [ٱلحق, ٱلدنيا]\n",
       "89                   [فمن, منه]\n",
       "88          [أنا, بين, قالوٓا۟]\n",
       "86          [إنما, خلق, ٱلعذاب]\n",
       "84               [منها, يعلمون]\n",
       "83         [تعملون, موسى, يعلم]\n",
       "81            [سبيل, للذين, لن]\n",
       "80                  [إليك, نحن]\n",
       "79     [فلما, يقولون, ٱلمؤمنين]\n",
       "78                   [ألم, كنا]\n",
       "77           [ربى, شيـٔا, فإذا]\n",
       "75            [ألا, ربنا, عنهم]\n",
       "74             [إنهم, جعل, غير]"
      ],
      "text/html": "<div>\n<style scoped>\n    .dataframe tbody tr th:only-of-type {\n        vertical-align: middle;\n    }\n\n    .dataframe tbody tr th {\n        vertical-align: top;\n    }\n\n    .dataframe thead th {\n        text-align: right;\n    }\n</style>\n<table border=\"1\" class=\"dataframe\">\n  <thead>\n    <tr style=\"text-align: right;\">\n      <th></th>\n      <th>word</th>\n    </tr>\n    <tr>\n      <th>count</th>\n      <th></th>\n    </tr>\n  </thead>\n  <tbody>\n    <tr>\n      <th>225</th>\n      <td>[لم, لهۥ]</td>\n    </tr>\n    <tr>\n      <th>179</th>\n      <td>[منهم, منۢ]</td>\n    </tr>\n    <tr>\n      <th>165</th>\n      <td>[إنهۥ, عليكم]</td>\n    </tr>\n    <tr>\n      <th>143</th>\n      <td>[إنا, لله]</td>\n    </tr>\n    <tr>\n      <th>127</th>\n      <td>[بل, فيه]</td>\n    </tr>\n    <tr>\n      <th>116</th>\n      <td>[لآ, يشآء]</td>\n    </tr>\n    <tr>\n      <th>111</th>\n      <td>[ربهم, مما]</td>\n    </tr>\n    <tr>\n      <th>110</th>\n      <td>[ٱلحق, ٱلدنيا]</td>\n    </tr>\n    <tr>\n      <th>89</th>\n      <td>[فمن, منه]</td>\n    </tr>\n    <tr>\n      <th>88</th>\n      <td>[أنا, بين, قالوٓا۟]</td>\n    </tr>\n    <tr>\n      <th>86</th>\n      <td>[إنما, خلق, ٱلعذاب]</td>\n    </tr>\n    <tr>\n      <th>84</th>\n      <td>[منها, يعلمون]</td>\n    </tr>\n    <tr>\n      <th>83</th>\n      <td>[تعملون, موسى, يعلم]</td>\n    </tr>\n    <tr>\n      <th>81</th>\n      <td>[سبيل, للذين, لن]</td>\n    </tr>\n    <tr>\n      <th>80</th>\n      <td>[إليك, نحن]</td>\n    </tr>\n    <tr>\n      <th>79</th>\n      <td>[فلما, يقولون, ٱلمؤمنين]</td>\n    </tr>\n    <tr>\n      <th>78</th>\n      <td>[ألم, كنا]</td>\n    </tr>\n    <tr>\n      <th>77</th>\n      <td>[ربى, شيـٔا, فإذا]</td>\n    </tr>\n    <tr>\n      <th>75</th>\n      <td>[ألا, ربنا, عنهم]</td>\n    </tr>\n    <tr>\n      <th>74</th>\n      <td>[إنهم, جعل, غير]</td>\n    </tr>\n  </tbody>\n</table>\n</div>"
     },
     "metadata": {},
     "execution_count": 51
    }
   ],
   "source": [
    "# word that has the same occurences\n",
    "df_word_same_occurence = df_word_occurence.groupby('count').agg(list)\n",
    "df_word_same_occurence = df_word_same_occurence[df_word_same_occurence['word'].apply(len) > 1]\n",
    "df_word_same_occurence.sort_index(ascending=False).head(20)"
   ]
  },
  {
   "cell_type": "code",
   "execution_count": 41,
   "metadata": {},
   "outputs": [
    {
     "output_type": "execute_result",
     "data": {
      "text/plain": [
       "      sura  verse     word  wordlen\n",
       "4        1      5    وإياك        5\n",
       "6        1      7      ولا        3\n",
       "10       2      3  ويقيمون        7\n",
       "10       2      3     ومما        4\n",
       "11       2      4   وٱلذين        6\n",
       "...    ...    ...      ...      ...\n",
       "6336   113      3      ومن        3\n",
       "6336   113      3      وقب        3\n",
       "6337   113      4      ومن        3\n",
       "6338   113      5      ومن        3\n",
       "6345   114      6   وٱلناس        6\n",
       "\n",
       "[10074 rows x 4 columns]"
      ],
      "text/html": "<div>\n<style scoped>\n    .dataframe tbody tr th:only-of-type {\n        vertical-align: middle;\n    }\n\n    .dataframe tbody tr th {\n        vertical-align: top;\n    }\n\n    .dataframe thead th {\n        text-align: right;\n    }\n</style>\n<table border=\"1\" class=\"dataframe\">\n  <thead>\n    <tr style=\"text-align: right;\">\n      <th></th>\n      <th>sura</th>\n      <th>verse</th>\n      <th>word</th>\n      <th>wordlen</th>\n    </tr>\n  </thead>\n  <tbody>\n    <tr>\n      <th>4</th>\n      <td>1</td>\n      <td>5</td>\n      <td>وإياك</td>\n      <td>5</td>\n    </tr>\n    <tr>\n      <th>6</th>\n      <td>1</td>\n      <td>7</td>\n      <td>ولا</td>\n      <td>3</td>\n    </tr>\n    <tr>\n      <th>10</th>\n      <td>2</td>\n      <td>3</td>\n      <td>ويقيمون</td>\n      <td>7</td>\n    </tr>\n    <tr>\n      <th>10</th>\n      <td>2</td>\n      <td>3</td>\n      <td>ومما</td>\n      <td>4</td>\n    </tr>\n    <tr>\n      <th>11</th>\n      <td>2</td>\n      <td>4</td>\n      <td>وٱلذين</td>\n      <td>6</td>\n    </tr>\n    <tr>\n      <th>...</th>\n      <td>...</td>\n      <td>...</td>\n      <td>...</td>\n      <td>...</td>\n    </tr>\n    <tr>\n      <th>6336</th>\n      <td>113</td>\n      <td>3</td>\n      <td>ومن</td>\n      <td>3</td>\n    </tr>\n    <tr>\n      <th>6336</th>\n      <td>113</td>\n      <td>3</td>\n      <td>وقب</td>\n      <td>3</td>\n    </tr>\n    <tr>\n      <th>6337</th>\n      <td>113</td>\n      <td>4</td>\n      <td>ومن</td>\n      <td>3</td>\n    </tr>\n    <tr>\n      <th>6338</th>\n      <td>113</td>\n      <td>5</td>\n      <td>ومن</td>\n      <td>3</td>\n    </tr>\n    <tr>\n      <th>6345</th>\n      <td>114</td>\n      <td>6</td>\n      <td>وٱلناس</td>\n      <td>6</td>\n    </tr>\n  </tbody>\n</table>\n<p>10074 rows × 4 columns</p>\n</div>"
     },
     "metadata": {},
     "execution_count": 41
    }
   ],
   "source": []
  }
 ]
}