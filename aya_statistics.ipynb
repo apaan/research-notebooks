{
 "metadata": {
  "language_info": {
   "codemirror_mode": {
    "name": "ipython",
    "version": 3
   },
   "file_extension": ".py",
   "mimetype": "text/x-python",
   "name": "python",
   "nbconvert_exporter": "python",
   "pygments_lexer": "ipython3",
   "version": "3.8.6-final"
  },
  "orig_nbformat": 2,
  "kernelspec": {
   "name": "Python 3.8.6 64-bit",
   "display_name": "Python 3.8.6 64-bit",
   "metadata": {
    "interpreter": {
     "hash": "767d51c1340bd893661ea55ea3124f6de3c7a262a8b4abca0554b478b1e2ff90"
    }
   }
  }
 },
 "nbformat": 4,
 "nbformat_minor": 2,
 "cells": [
  {
   "cell_type": "code",
   "execution_count": 1,
   "metadata": {},
   "outputs": [],
   "source": [
    "import pandas as pd\n",
    "import collections\n",
    "\n",
    "with open('quran-text/quran-uthmani.txt') as f:\n",
    "    quran_text = [l.strip() for l in f if not l.strip().startswith('#') and l.strip()]"
   ]
  },
  {
   "cell_type": "code",
   "execution_count": 2,
   "metadata": {
    "tags": []
   },
   "outputs": [],
   "source": [
    "# split basmallah to its own\n",
    "i = 0 \n",
    "while i < len(quran_text):\n",
    "    aya = quran_text[i].split('|')\n",
    "    if aya[2].startswith('بِسْمِ ٱللَّهِ ٱلرَّحْمَٰنِ ٱلرَّحِيمِ '):\n",
    "        quran_text.insert(i, f'{aya[0]}|0|بِسْمِ ٱللَّهِ ٱلرَّحْمَٰنِ ٱلرَّحِيمِ')\n",
    "        i += 1\n",
    "        quran_text[i] = f'{aya[0]}|1|{aya[2][38:]}'\n",
    "    i += 1"
   ]
  },
  {
   "cell_type": "code",
   "execution_count": 3,
   "metadata": {},
   "outputs": [
    {
     "output_type": "execute_result",
     "data": {
      "text/plain": [
       "6346"
      ]
     },
     "metadata": {},
     "execution_count": 3
    }
   ],
   "source": [
    "# number of aya with basmallah\n",
    "len(quran_text)"
   ]
  },
  {
   "cell_type": "code",
   "execution_count": 4,
   "metadata": {},
   "outputs": [
    {
     "output_type": "execute_result",
     "data": {
      "text/plain": [
       "6236"
      ]
     },
     "metadata": {},
     "execution_count": 4
    }
   ],
   "source": [
    "# number of aya without basmallah except for first sura\n",
    "len([qt for qt in quran_text if '|0|' not in qt])"
   ]
  },
  {
   "cell_type": "code",
   "execution_count": 5,
   "metadata": {},
   "outputs": [
    {
     "output_type": "execute_result",
     "data": {
      "text/plain": [
       "      sura  verse                                      text\n",
       "0        1      1    بِسْمِ ٱللَّهِ ٱلرَّحْمَٰنِ ٱلرَّحِيمِ\n",
       "1        1      2     ٱلْحَمْدُ لِلَّهِ رَبِّ ٱلْعَٰلَمِينَ\n",
       "2        1      3                   ٱلرَّحْمَٰنِ ٱلرَّحِيمِ\n",
       "3        1      4                   مَٰلِكِ يَوْمِ ٱلدِّينِ\n",
       "4        1      5  إِيَّاكَ نَعْبُدُ وَإِيَّاكَ نَسْتَعِينُ\n",
       "...    ...    ...                                       ...\n",
       "6341   114      2                           مَلِكِ ٱلنَّاسِ\n",
       "6342   114      3                          إِلَٰهِ ٱلنَّاسِ\n",
       "6343   114      4        مِن شَرِّ ٱلْوَسْوَاسِ ٱلْخَنَّاسِ\n",
       "6344   114      5   ٱلَّذِى يُوَسْوِسُ فِى صُدُورِ ٱلنَّاسِ\n",
       "6345   114      6                مِنَ ٱلْجِنَّةِ وَٱلنَّاسِ\n",
       "\n",
       "[6346 rows x 3 columns]"
      ],
      "text/html": "<div>\n<style scoped>\n    .dataframe tbody tr th:only-of-type {\n        vertical-align: middle;\n    }\n\n    .dataframe tbody tr th {\n        vertical-align: top;\n    }\n\n    .dataframe thead th {\n        text-align: right;\n    }\n</style>\n<table border=\"1\" class=\"dataframe\">\n  <thead>\n    <tr style=\"text-align: right;\">\n      <th></th>\n      <th>sura</th>\n      <th>verse</th>\n      <th>text</th>\n    </tr>\n  </thead>\n  <tbody>\n    <tr>\n      <th>0</th>\n      <td>1</td>\n      <td>1</td>\n      <td>بِسْمِ ٱللَّهِ ٱلرَّحْمَٰنِ ٱلرَّحِيمِ</td>\n    </tr>\n    <tr>\n      <th>1</th>\n      <td>1</td>\n      <td>2</td>\n      <td>ٱلْحَمْدُ لِلَّهِ رَبِّ ٱلْعَٰلَمِينَ</td>\n    </tr>\n    <tr>\n      <th>2</th>\n      <td>1</td>\n      <td>3</td>\n      <td>ٱلرَّحْمَٰنِ ٱلرَّحِيمِ</td>\n    </tr>\n    <tr>\n      <th>3</th>\n      <td>1</td>\n      <td>4</td>\n      <td>مَٰلِكِ يَوْمِ ٱلدِّينِ</td>\n    </tr>\n    <tr>\n      <th>4</th>\n      <td>1</td>\n      <td>5</td>\n      <td>إِيَّاكَ نَعْبُدُ وَإِيَّاكَ نَسْتَعِينُ</td>\n    </tr>\n    <tr>\n      <th>...</th>\n      <td>...</td>\n      <td>...</td>\n      <td>...</td>\n    </tr>\n    <tr>\n      <th>6341</th>\n      <td>114</td>\n      <td>2</td>\n      <td>مَلِكِ ٱلنَّاسِ</td>\n    </tr>\n    <tr>\n      <th>6342</th>\n      <td>114</td>\n      <td>3</td>\n      <td>إِلَٰهِ ٱلنَّاسِ</td>\n    </tr>\n    <tr>\n      <th>6343</th>\n      <td>114</td>\n      <td>4</td>\n      <td>مِن شَرِّ ٱلْوَسْوَاسِ ٱلْخَنَّاسِ</td>\n    </tr>\n    <tr>\n      <th>6344</th>\n      <td>114</td>\n      <td>5</td>\n      <td>ٱلَّذِى يُوَسْوِسُ فِى صُدُورِ ٱلنَّاسِ</td>\n    </tr>\n    <tr>\n      <th>6345</th>\n      <td>114</td>\n      <td>6</td>\n      <td>مِنَ ٱلْجِنَّةِ وَٱلنَّاسِ</td>\n    </tr>\n  </tbody>\n</table>\n<p>6346 rows × 3 columns</p>\n</div>"
     },
     "metadata": {},
     "execution_count": 5
    }
   ],
   "source": [
    "df = pd.DataFrame({'sura': int(a[0]), 'verse': int(a[1]), 'text': a[2]} for a in [a.split('|') for a in quran_text])\n",
    "df"
   ]
  },
  {
   "cell_type": "code",
   "execution_count": 6,
   "metadata": {},
   "outputs": [
    {
     "output_type": "execute_result",
     "data": {
      "text/plain": [
       "      verse\n",
       "sura       \n",
       "1         7\n",
       "2       287\n",
       "3       201\n",
       "4       177\n",
       "5       121\n",
       "...     ...\n",
       "110       4\n",
       "111       6\n",
       "112       5\n",
       "113       6\n",
       "114       7\n",
       "\n",
       "[114 rows x 1 columns]"
      ],
      "text/html": "<div>\n<style scoped>\n    .dataframe tbody tr th:only-of-type {\n        vertical-align: middle;\n    }\n\n    .dataframe tbody tr th {\n        vertical-align: top;\n    }\n\n    .dataframe thead th {\n        text-align: right;\n    }\n</style>\n<table border=\"1\" class=\"dataframe\">\n  <thead>\n    <tr style=\"text-align: right;\">\n      <th></th>\n      <th>verse</th>\n    </tr>\n    <tr>\n      <th>sura</th>\n      <th></th>\n    </tr>\n  </thead>\n  <tbody>\n    <tr>\n      <th>1</th>\n      <td>7</td>\n    </tr>\n    <tr>\n      <th>2</th>\n      <td>287</td>\n    </tr>\n    <tr>\n      <th>3</th>\n      <td>201</td>\n    </tr>\n    <tr>\n      <th>4</th>\n      <td>177</td>\n    </tr>\n    <tr>\n      <th>5</th>\n      <td>121</td>\n    </tr>\n    <tr>\n      <th>...</th>\n      <td>...</td>\n    </tr>\n    <tr>\n      <th>110</th>\n      <td>4</td>\n    </tr>\n    <tr>\n      <th>111</th>\n      <td>6</td>\n    </tr>\n    <tr>\n      <th>112</th>\n      <td>5</td>\n    </tr>\n    <tr>\n      <th>113</th>\n      <td>6</td>\n    </tr>\n    <tr>\n      <th>114</th>\n      <td>7</td>\n    </tr>\n  </tbody>\n</table>\n<p>114 rows × 1 columns</p>\n</div>"
     },
     "metadata": {},
     "execution_count": 6
    }
   ],
   "source": [
    "# Surah lengths\n",
    "df_length = df[['sura','verse']].groupby('sura').count()\n",
    "df_length"
   ]
  },
  {
   "cell_type": "code",
   "execution_count": 7,
   "metadata": {},
   "outputs": [
    {
     "output_type": "execute_result",
     "data": {
      "text/plain": [
       "      verse\n",
       "sura       \n",
       "2       287\n",
       "26      228\n",
       "7       207\n",
       "3       201\n",
       "37      183\n",
       "4       177\n",
       "6       166\n",
       "20      136\n",
       "9       129\n",
       "16      129"
      ],
      "text/html": "<div>\n<style scoped>\n    .dataframe tbody tr th:only-of-type {\n        vertical-align: middle;\n    }\n\n    .dataframe tbody tr th {\n        vertical-align: top;\n    }\n\n    .dataframe thead th {\n        text-align: right;\n    }\n</style>\n<table border=\"1\" class=\"dataframe\">\n  <thead>\n    <tr style=\"text-align: right;\">\n      <th></th>\n      <th>verse</th>\n    </tr>\n    <tr>\n      <th>sura</th>\n      <th></th>\n    </tr>\n  </thead>\n  <tbody>\n    <tr>\n      <th>2</th>\n      <td>287</td>\n    </tr>\n    <tr>\n      <th>26</th>\n      <td>228</td>\n    </tr>\n    <tr>\n      <th>7</th>\n      <td>207</td>\n    </tr>\n    <tr>\n      <th>3</th>\n      <td>201</td>\n    </tr>\n    <tr>\n      <th>37</th>\n      <td>183</td>\n    </tr>\n    <tr>\n      <th>4</th>\n      <td>177</td>\n    </tr>\n    <tr>\n      <th>6</th>\n      <td>166</td>\n    </tr>\n    <tr>\n      <th>20</th>\n      <td>136</td>\n    </tr>\n    <tr>\n      <th>9</th>\n      <td>129</td>\n    </tr>\n    <tr>\n      <th>16</th>\n      <td>129</td>\n    </tr>\n  </tbody>\n</table>\n</div>"
     },
     "metadata": {},
     "execution_count": 7
    }
   ],
   "source": [
    "# longest suras\n",
    "df_length.sort_values('verse', ascending=False).head(10)"
   ]
  },
  {
   "cell_type": "code",
   "execution_count": 8,
   "metadata": {},
   "outputs": [
    {
     "output_type": "execute_result",
     "data": {
      "text/plain": [
       "      verse\n",
       "sura       \n",
       "110       4\n",
       "108       4\n",
       "103       4\n",
       "112       5\n",
       "106       5\n",
       "97        5\n",
       "111       6\n",
       "105       6\n",
       "113       6\n",
       "1         7"
      ],
      "text/html": "<div>\n<style scoped>\n    .dataframe tbody tr th:only-of-type {\n        vertical-align: middle;\n    }\n\n    .dataframe tbody tr th {\n        vertical-align: top;\n    }\n\n    .dataframe thead th {\n        text-align: right;\n    }\n</style>\n<table border=\"1\" class=\"dataframe\">\n  <thead>\n    <tr style=\"text-align: right;\">\n      <th></th>\n      <th>verse</th>\n    </tr>\n    <tr>\n      <th>sura</th>\n      <th></th>\n    </tr>\n  </thead>\n  <tbody>\n    <tr>\n      <th>110</th>\n      <td>4</td>\n    </tr>\n    <tr>\n      <th>108</th>\n      <td>4</td>\n    </tr>\n    <tr>\n      <th>103</th>\n      <td>4</td>\n    </tr>\n    <tr>\n      <th>112</th>\n      <td>5</td>\n    </tr>\n    <tr>\n      <th>106</th>\n      <td>5</td>\n    </tr>\n    <tr>\n      <th>97</th>\n      <td>5</td>\n    </tr>\n    <tr>\n      <th>111</th>\n      <td>6</td>\n    </tr>\n    <tr>\n      <th>105</th>\n      <td>6</td>\n    </tr>\n    <tr>\n      <th>113</th>\n      <td>6</td>\n    </tr>\n    <tr>\n      <th>1</th>\n      <td>7</td>\n    </tr>\n  </tbody>\n</table>\n</div>"
     },
     "metadata": {},
     "execution_count": 8
    }
   ],
   "source": [
    "# shortest suras\n",
    "df_length.sort_values('verse').head(10)"
   ]
  },
  {
   "cell_type": "code",
   "execution_count": 9,
   "metadata": {
    "tags": []
   },
   "outputs": [],
   "source": [
    "FILTERED_CHARS = \\\n",
    "    '|123456789 \\t\\nًٌَُّْ\t' \\\n",
    "    'ِ ۫ ۨ ۬ ۬' \\\n",
    "    '۪ ۣۭۜ۠' \\\n",
    "    '\t' \\\n",
    "    'ٰ'\n",
    "\n",
    "def len_verse(text):\n",
    "    return len([c for c in text if c not in FILTERED_CHARS])\n",
    "\n",
    "df['verse_charlen'] = df['text'].apply(len_verse)"
   ]
  },
  {
   "cell_type": "code",
   "execution_count": 10,
   "metadata": {},
   "outputs": [
    {
     "output_type": "execute_result",
     "data": {
      "text/plain": [
       "count    6346.000000\n",
       "mean       54.135361\n",
       "std        41.165902\n",
       "min         2.000000\n",
       "25%        23.000000\n",
       "50%        44.000000\n",
       "75%        71.000000\n",
       "max       580.000000\n",
       "Name: verse_charlen, dtype: float64"
      ]
     },
     "metadata": {},
     "execution_count": 10
    }
   ],
   "source": [
    "# statistic of verse charlen\n",
    "df['verse_charlen'].describe()"
   ]
  },
  {
   "cell_type": "code",
   "execution_count": 11,
   "metadata": {},
   "outputs": [
    {
     "output_type": "execute_result",
     "data": {
      "text/plain": [
       "     verse_charlen                                                         \n",
       "             count        mean        std   min    25%   50%     75%    max\n",
       "sura                                                                       \n",
       "1              7.0   20.000000  11.075498  11.0  14.50  18.0   19.00   44.0\n",
       "2            287.0   94.675958  62.036445   5.0  56.00  76.0  117.00  580.0\n",
       "3            201.0   76.701493  39.853487   5.0  49.00  69.0   96.00  296.0\n",
       "4            177.0   95.124294  55.706172  19.0  57.00  80.0  116.00  316.0\n",
       "5            121.0  104.388430  57.304068  19.0  67.00  92.0  122.00  297.0\n",
       "...            ...         ...        ...   ...    ...   ...     ...    ...\n",
       "110            4.0   25.500000   6.952218  19.0  19.75  25.5   31.25   32.0\n",
       "111            6.0   17.833333   1.940790  16.0  16.25  17.5   18.75   21.0\n",
       "112            5.0   13.600000   4.219005   9.0  11.00  12.0   17.00   19.0\n",
       "113            6.0   15.333333   3.559026   9.0  14.50  16.0   17.50   19.0\n",
       "114            7.0   14.142857   4.879500   8.0  10.50  14.0   18.00   20.0\n",
       "\n",
       "[114 rows x 8 columns]"
      ],
      "text/html": "<div>\n<style scoped>\n    .dataframe tbody tr th:only-of-type {\n        vertical-align: middle;\n    }\n\n    .dataframe tbody tr th {\n        vertical-align: top;\n    }\n\n    .dataframe thead tr th {\n        text-align: left;\n    }\n\n    .dataframe thead tr:last-of-type th {\n        text-align: right;\n    }\n</style>\n<table border=\"1\" class=\"dataframe\">\n  <thead>\n    <tr>\n      <th></th>\n      <th colspan=\"8\" halign=\"left\">verse_charlen</th>\n    </tr>\n    <tr>\n      <th></th>\n      <th>count</th>\n      <th>mean</th>\n      <th>std</th>\n      <th>min</th>\n      <th>25%</th>\n      <th>50%</th>\n      <th>75%</th>\n      <th>max</th>\n    </tr>\n    <tr>\n      <th>sura</th>\n      <th></th>\n      <th></th>\n      <th></th>\n      <th></th>\n      <th></th>\n      <th></th>\n      <th></th>\n      <th></th>\n    </tr>\n  </thead>\n  <tbody>\n    <tr>\n      <th>1</th>\n      <td>7.0</td>\n      <td>20.000000</td>\n      <td>11.075498</td>\n      <td>11.0</td>\n      <td>14.50</td>\n      <td>18.0</td>\n      <td>19.00</td>\n      <td>44.0</td>\n    </tr>\n    <tr>\n      <th>2</th>\n      <td>287.0</td>\n      <td>94.675958</td>\n      <td>62.036445</td>\n      <td>5.0</td>\n      <td>56.00</td>\n      <td>76.0</td>\n      <td>117.00</td>\n      <td>580.0</td>\n    </tr>\n    <tr>\n      <th>3</th>\n      <td>201.0</td>\n      <td>76.701493</td>\n      <td>39.853487</td>\n      <td>5.0</td>\n      <td>49.00</td>\n      <td>69.0</td>\n      <td>96.00</td>\n      <td>296.0</td>\n    </tr>\n    <tr>\n      <th>4</th>\n      <td>177.0</td>\n      <td>95.124294</td>\n      <td>55.706172</td>\n      <td>19.0</td>\n      <td>57.00</td>\n      <td>80.0</td>\n      <td>116.00</td>\n      <td>316.0</td>\n    </tr>\n    <tr>\n      <th>5</th>\n      <td>121.0</td>\n      <td>104.388430</td>\n      <td>57.304068</td>\n      <td>19.0</td>\n      <td>67.00</td>\n      <td>92.0</td>\n      <td>122.00</td>\n      <td>297.0</td>\n    </tr>\n    <tr>\n      <th>...</th>\n      <td>...</td>\n      <td>...</td>\n      <td>...</td>\n      <td>...</td>\n      <td>...</td>\n      <td>...</td>\n      <td>...</td>\n      <td>...</td>\n    </tr>\n    <tr>\n      <th>110</th>\n      <td>4.0</td>\n      <td>25.500000</td>\n      <td>6.952218</td>\n      <td>19.0</td>\n      <td>19.75</td>\n      <td>25.5</td>\n      <td>31.25</td>\n      <td>32.0</td>\n    </tr>\n    <tr>\n      <th>111</th>\n      <td>6.0</td>\n      <td>17.833333</td>\n      <td>1.940790</td>\n      <td>16.0</td>\n      <td>16.25</td>\n      <td>17.5</td>\n      <td>18.75</td>\n      <td>21.0</td>\n    </tr>\n    <tr>\n      <th>112</th>\n      <td>5.0</td>\n      <td>13.600000</td>\n      <td>4.219005</td>\n      <td>9.0</td>\n      <td>11.00</td>\n      <td>12.0</td>\n      <td>17.00</td>\n      <td>19.0</td>\n    </tr>\n    <tr>\n      <th>113</th>\n      <td>6.0</td>\n      <td>15.333333</td>\n      <td>3.559026</td>\n      <td>9.0</td>\n      <td>14.50</td>\n      <td>16.0</td>\n      <td>17.50</td>\n      <td>19.0</td>\n    </tr>\n    <tr>\n      <th>114</th>\n      <td>7.0</td>\n      <td>14.142857</td>\n      <td>4.879500</td>\n      <td>8.0</td>\n      <td>10.50</td>\n      <td>14.0</td>\n      <td>18.00</td>\n      <td>20.0</td>\n    </tr>\n  </tbody>\n</table>\n<p>114 rows × 8 columns</p>\n</div>"
     },
     "metadata": {},
     "execution_count": 11
    }
   ],
   "source": [
    "df[['sura','verse_charlen']].groupby('sura').describe()"
   ]
  },
  {
   "cell_type": "code",
   "execution_count": 12,
   "metadata": {},
   "outputs": [],
   "source": [
    "# sura character length\n",
    "df_length = df[['sura','verse_charlen']].groupby('sura').sum()"
   ]
  },
  {
   "cell_type": "code",
   "execution_count": 13,
   "metadata": {},
   "outputs": [
    {
     "output_type": "execute_result",
     "data": {
      "text/plain": [
       "      verse_charlen\n",
       "sura               \n",
       "2             27172\n",
       "4             16837\n",
       "3             15417\n",
       "7             14980\n",
       "6             13203\n",
       "5             12631\n",
       "9             11435\n",
       "11             8196\n",
       "16             8056\n",
       "10             7902"
      ],
      "text/html": "<div>\n<style scoped>\n    .dataframe tbody tr th:only-of-type {\n        vertical-align: middle;\n    }\n\n    .dataframe tbody tr th {\n        vertical-align: top;\n    }\n\n    .dataframe thead th {\n        text-align: right;\n    }\n</style>\n<table border=\"1\" class=\"dataframe\">\n  <thead>\n    <tr style=\"text-align: right;\">\n      <th></th>\n      <th>verse_charlen</th>\n    </tr>\n    <tr>\n      <th>sura</th>\n      <th></th>\n    </tr>\n  </thead>\n  <tbody>\n    <tr>\n      <th>2</th>\n      <td>27172</td>\n    </tr>\n    <tr>\n      <th>4</th>\n      <td>16837</td>\n    </tr>\n    <tr>\n      <th>3</th>\n      <td>15417</td>\n    </tr>\n    <tr>\n      <th>7</th>\n      <td>14980</td>\n    </tr>\n    <tr>\n      <th>6</th>\n      <td>13203</td>\n    </tr>\n    <tr>\n      <th>5</th>\n      <td>12631</td>\n    </tr>\n    <tr>\n      <th>9</th>\n      <td>11435</td>\n    </tr>\n    <tr>\n      <th>11</th>\n      <td>8196</td>\n    </tr>\n    <tr>\n      <th>16</th>\n      <td>8056</td>\n    </tr>\n    <tr>\n      <th>10</th>\n      <td>7902</td>\n    </tr>\n  </tbody>\n</table>\n</div>"
     },
     "metadata": {},
     "execution_count": 13
    }
   ],
   "source": [
    "# longest sura by charlen (with basmallah)\n",
    "df_length.sort_values('verse_charlen', ascending=False).head(10)"
   ]
  },
  {
   "cell_type": "code",
   "execution_count": 14,
   "metadata": {},
   "outputs": [
    {
     "output_type": "execute_result",
     "data": {
      "text/plain": [
       "      verse_charlen\n",
       "sura               \n",
       "108              62\n",
       "112              68\n",
       "113              92\n",
       "103              95\n",
       "114              99\n",
       "106             101\n",
       "110             102\n",
       "111             107\n",
       "105             120\n",
       "109             121"
      ],
      "text/html": "<div>\n<style scoped>\n    .dataframe tbody tr th:only-of-type {\n        vertical-align: middle;\n    }\n\n    .dataframe tbody tr th {\n        vertical-align: top;\n    }\n\n    .dataframe thead th {\n        text-align: right;\n    }\n</style>\n<table border=\"1\" class=\"dataframe\">\n  <thead>\n    <tr style=\"text-align: right;\">\n      <th></th>\n      <th>verse_charlen</th>\n    </tr>\n    <tr>\n      <th>sura</th>\n      <th></th>\n    </tr>\n  </thead>\n  <tbody>\n    <tr>\n      <th>108</th>\n      <td>62</td>\n    </tr>\n    <tr>\n      <th>112</th>\n      <td>68</td>\n    </tr>\n    <tr>\n      <th>113</th>\n      <td>92</td>\n    </tr>\n    <tr>\n      <th>103</th>\n      <td>95</td>\n    </tr>\n    <tr>\n      <th>114</th>\n      <td>99</td>\n    </tr>\n    <tr>\n      <th>106</th>\n      <td>101</td>\n    </tr>\n    <tr>\n      <th>110</th>\n      <td>102</td>\n    </tr>\n    <tr>\n      <th>111</th>\n      <td>107</td>\n    </tr>\n    <tr>\n      <th>105</th>\n      <td>120</td>\n    </tr>\n    <tr>\n      <th>109</th>\n      <td>121</td>\n    </tr>\n  </tbody>\n</table>\n</div>"
     },
     "metadata": {},
     "execution_count": 14
    }
   ],
   "source": [
    "# shortest sura by charlen (with basmallah)\n",
    "df_length.sort_values('verse_charlen').head(10)"
   ]
  },
  {
   "cell_type": "code",
   "execution_count": 15,
   "metadata": {},
   "outputs": [],
   "source": [
    "# arabic character values according to Ibn Arabi\n",
    "\n",
    "ref = 'ابجدهوزحطيكلمنسعفصقرشتثخذضظغ';\n",
    "mapping = {\n",
    "    'ؤ': 'ا',\n",
    "    'ئ': 'ا',\n",
    "    'إ': 'ا',\n",
    "    'أ': 'ا',\n",
    "    'آ': 'ا',\n",
    "    'ى': 'ي',\n",
    "    'ء': 'ا',\n",
    "    'ة': 'ه'\n",
    "}\n",
    "def val1(c):\n",
    "    c = mapping.get(c, c)\n",
    "    i = ref.index(c) if c in ref else -1\n",
    "    if i == -1:\n",
    "        if c != ' ':\n",
    "            return None\n",
    "        return 0\n",
    "    else:\n",
    "        return ((i % 9)+1) * (10 ** (i//9))\n",
    "\n",
    "def val(s):\n",
    "    values = [val1(c) for c in s]\n",
    "    return sum(val for val in values if val)\n",
    "\n",
    "\n",
    "# total char value of each verses\n",
    "df['verse_value'] = df['text'].apply(val)"
   ]
  },
  {
   "cell_type": "code",
   "execution_count": 16,
   "metadata": {},
   "outputs": [
    {
     "output_type": "execute_result",
     "data": {
      "text/plain": [
       "      sura  verse                                               text  \\\n",
       "289      2    282  يَٰٓأَيُّهَا ٱلَّذِينَ ءَامَنُوٓا۟ إِذَا تَدَا...   \n",
       "5565    73     20  إِنَّ رَبَّكَ يَعْلَمُ أَنَّكَ تَقُومُ أَدْنَى...   \n",
       "2843    24     31  وَقُل لِّلْمُؤْمِنَٰتِ يَغْضُضْنَ مِنْ أَبْصَٰ...   \n",
       "782      5    110  إِذْ قَالَ ٱللَّهُ يَٰعِيسَى ٱبْنَ مَرْيَمَ ٱذ...   \n",
       "675      5      3  حُرِّمَتْ عَلَيْكُمُ ٱلْمَيْتَةُ وَٱلدَّمُ وَل...   \n",
       "597      4    102  وَإِذَا كُنتَ فِيهِمْ فَأَقَمْتَ لَهُمُ ٱلصَّل...   \n",
       "2619    22      5  يَٰٓأَيُّهَا ٱلنَّاسُ إِن كُنتُمْ فِى رَيْبٍ م...   \n",
       "520      4     25  وَمَن لَّمْ يَسْتَطِعْ مِنكُمْ طَوْلًا أَن يَن...   \n",
       "3616    33     53  يَٰٓأَيُّهَا ٱلَّذِينَ ءَامَنُوا۟ لَا تَدْخُلُ...   \n",
       "4657    48     29  مُّحَمَّدٌ رَّسُولُ ٱللَّهِ وَٱلَّذِينَ مَعَهُ...   \n",
       "\n",
       "      verse_charlen  verse_value  \n",
       "289             580        39212  \n",
       "5565            342        29589  \n",
       "2843            356        25563  \n",
       "782             281        25534  \n",
       "675             284        25333  \n",
       "597             295        25279  \n",
       "2619            282        24409  \n",
       "520             261        24201  \n",
       "3616            310        23440  \n",
       "4657            261        23399  "
      ],
      "text/html": "<div>\n<style scoped>\n    .dataframe tbody tr th:only-of-type {\n        vertical-align: middle;\n    }\n\n    .dataframe tbody tr th {\n        vertical-align: top;\n    }\n\n    .dataframe thead th {\n        text-align: right;\n    }\n</style>\n<table border=\"1\" class=\"dataframe\">\n  <thead>\n    <tr style=\"text-align: right;\">\n      <th></th>\n      <th>sura</th>\n      <th>verse</th>\n      <th>text</th>\n      <th>verse_charlen</th>\n      <th>verse_value</th>\n    </tr>\n  </thead>\n  <tbody>\n    <tr>\n      <th>289</th>\n      <td>2</td>\n      <td>282</td>\n      <td>يَٰٓأَيُّهَا ٱلَّذِينَ ءَامَنُوٓا۟ إِذَا تَدَا...</td>\n      <td>580</td>\n      <td>39212</td>\n    </tr>\n    <tr>\n      <th>5565</th>\n      <td>73</td>\n      <td>20</td>\n      <td>إِنَّ رَبَّكَ يَعْلَمُ أَنَّكَ تَقُومُ أَدْنَى...</td>\n      <td>342</td>\n      <td>29589</td>\n    </tr>\n    <tr>\n      <th>2843</th>\n      <td>24</td>\n      <td>31</td>\n      <td>وَقُل لِّلْمُؤْمِنَٰتِ يَغْضُضْنَ مِنْ أَبْصَٰ...</td>\n      <td>356</td>\n      <td>25563</td>\n    </tr>\n    <tr>\n      <th>782</th>\n      <td>5</td>\n      <td>110</td>\n      <td>إِذْ قَالَ ٱللَّهُ يَٰعِيسَى ٱبْنَ مَرْيَمَ ٱذ...</td>\n      <td>281</td>\n      <td>25534</td>\n    </tr>\n    <tr>\n      <th>675</th>\n      <td>5</td>\n      <td>3</td>\n      <td>حُرِّمَتْ عَلَيْكُمُ ٱلْمَيْتَةُ وَٱلدَّمُ وَل...</td>\n      <td>284</td>\n      <td>25333</td>\n    </tr>\n    <tr>\n      <th>597</th>\n      <td>4</td>\n      <td>102</td>\n      <td>وَإِذَا كُنتَ فِيهِمْ فَأَقَمْتَ لَهُمُ ٱلصَّل...</td>\n      <td>295</td>\n      <td>25279</td>\n    </tr>\n    <tr>\n      <th>2619</th>\n      <td>22</td>\n      <td>5</td>\n      <td>يَٰٓأَيُّهَا ٱلنَّاسُ إِن كُنتُمْ فِى رَيْبٍ م...</td>\n      <td>282</td>\n      <td>24409</td>\n    </tr>\n    <tr>\n      <th>520</th>\n      <td>4</td>\n      <td>25</td>\n      <td>وَمَن لَّمْ يَسْتَطِعْ مِنكُمْ طَوْلًا أَن يَن...</td>\n      <td>261</td>\n      <td>24201</td>\n    </tr>\n    <tr>\n      <th>3616</th>\n      <td>33</td>\n      <td>53</td>\n      <td>يَٰٓأَيُّهَا ٱلَّذِينَ ءَامَنُوا۟ لَا تَدْخُلُ...</td>\n      <td>310</td>\n      <td>23440</td>\n    </tr>\n    <tr>\n      <th>4657</th>\n      <td>48</td>\n      <td>29</td>\n      <td>مُّحَمَّدٌ رَّسُولُ ٱللَّهِ وَٱلَّذِينَ مَعَهُ...</td>\n      <td>261</td>\n      <td>23399</td>\n    </tr>\n  </tbody>\n</table>\n</div>"
     },
     "metadata": {},
     "execution_count": 16
    }
   ],
   "source": [
    "# top value verses\n",
    "df.sort_values('verse_value', ascending=False).head(10)"
   ]
  },
  {
   "cell_type": "code",
   "execution_count": 17,
   "metadata": {},
   "outputs": [
    {
     "output_type": "execute_result",
     "data": {
      "text/plain": [
       "      verse_value\n",
       "sura             \n",
       "2         1823606\n",
       "4         1116434\n",
       "3         1055898\n",
       "7         1054508\n",
       "6          933617\n",
       "5          824303\n",
       "9          737106\n",
       "16         557806\n",
       "11         537999\n",
       "10         536169"
      ],
      "text/html": "<div>\n<style scoped>\n    .dataframe tbody tr th:only-of-type {\n        vertical-align: middle;\n    }\n\n    .dataframe tbody tr th {\n        vertical-align: top;\n    }\n\n    .dataframe thead th {\n        text-align: right;\n    }\n</style>\n<table border=\"1\" class=\"dataframe\">\n  <thead>\n    <tr style=\"text-align: right;\">\n      <th></th>\n      <th>verse_value</th>\n    </tr>\n    <tr>\n      <th>sura</th>\n      <th></th>\n    </tr>\n  </thead>\n  <tbody>\n    <tr>\n      <th>2</th>\n      <td>1823606</td>\n    </tr>\n    <tr>\n      <th>4</th>\n      <td>1116434</td>\n    </tr>\n    <tr>\n      <th>3</th>\n      <td>1055898</td>\n    </tr>\n    <tr>\n      <th>7</th>\n      <td>1054508</td>\n    </tr>\n    <tr>\n      <th>6</th>\n      <td>933617</td>\n    </tr>\n    <tr>\n      <th>5</th>\n      <td>824303</td>\n    </tr>\n    <tr>\n      <th>9</th>\n      <td>737106</td>\n    </tr>\n    <tr>\n      <th>16</th>\n      <td>557806</td>\n    </tr>\n    <tr>\n      <th>11</th>\n      <td>537999</td>\n    </tr>\n    <tr>\n      <th>10</th>\n      <td>536169</td>\n    </tr>\n  </tbody>\n</table>\n</div>"
     },
     "metadata": {},
     "execution_count": 17
    }
   ],
   "source": [
    "# top sura by total verse value\n",
    "df[['sura', 'verse_value']].groupby('sura').sum().sort_values('verse_value', ascending=False).head(10)"
   ]
  }
 ]
}